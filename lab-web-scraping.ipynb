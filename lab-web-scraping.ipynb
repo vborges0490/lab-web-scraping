{
 "cells": [
  {
   "cell_type": "markdown",
   "id": "7e7a1ab8-2599-417d-9a65-25ef07f3a786",
   "metadata": {
    "id": "7e7a1ab8-2599-417d-9a65-25ef07f3a786"
   },
   "source": [
    "# Lab | Web Scraping"
   ]
  },
  {
   "cell_type": "markdown",
   "id": "ce8882fc-4815-4567-92fa-b4816358ba7d",
   "metadata": {
    "id": "ce8882fc-4815-4567-92fa-b4816358ba7d"
   },
   "source": [
    "Welcome to the IMDb Web Scraping Adventure Lab!\n",
    "\n",
    "**Objective**\n",
    "\n",
    "In this lab, we will embark on a mission to unearth valuable insights from the vast sea of data available on IMDb, one of the largest online databases of movie, TV, and celebrity information. As budding data scientists and business analysts, you have been tasked to scrape a specific subset of data from IMDb to assist film production companies in understanding the landscape of highly-rated movies in a defined time period. Your insights will potentially influence the making of the next netflix movie!\n",
    "\n",
    "**Background**\n",
    "\n",
    "In a world where data has become the new currency, businesses are leveraging big data to make informed decisions that drive success and profitability. The entertainment industry, being no exception, utilizes data analytics to comprehend market trends, audience preferences, and the performance of films based on various parameters such as director, genre, stars involved, etc. IMDb stands as a goldmine of such data, offering intricate details of almost every movie ever made.\n",
    "\n",
    "**Task**\n",
    "\n",
    "Your task is to create a Python script using `BeautifulSoup` and `pandas` to scrape IMDb movie data based on user ratings and release dates. This script should be able to filter movies with ratings above a certain threshold and within a specified date range.\n",
    "\n",
    "**Expected Outcome**\n",
    "\n",
    "- A function named `scrape_imdb` that takes four parameters: `title_type`,`user_rating`, `start_date`, and `end_date`.\n",
    "- The function should return a DataFrame with the following columns:\n",
    "  - **Movie Nr**: The number representing the movie’s position in the list.\n",
    "  - **Title**: The title of the movie.\n",
    "  - **Year**: The year the movie was released.\n",
    "  - **Rating**: The IMDb rating of the movie.\n",
    "  - **Runtime (min)**: The duration of the movie in minutes.\n",
    "  - **Genre**: The genre of the movie.\n",
    "  - **Description**: A brief description of the movie.\n",
    "  - **Director**: The director of the movie.\n",
    "  - **Stars**: The main stars of the movie.\n",
    "  - **Votes**: The number of votes the movie received.\n",
    "  - **Gross ($M)**: The gross earnings of the movie in millions of USD.\n",
    "\n",
    "You will execute this script to scrape data for movies with the Title Type `Feature Film` that have a user rating of `7.5 and above` and were released between `January 1, 1990, and December 31, 1992`.\n",
    "\n",
    "Remember to experiment with different title types, dates and ratings to ensure your code is versatile and can handle various searches effectively!\n",
    "\n",
    "**Resources**\n",
    "\n",
    "- [Beautiful Soup Documentation](https://www.crummy.com/software/BeautifulSoup/bs4/doc/)\n",
    "- [Pandas Documentation](https://pandas.pydata.org/pandas-docs/stable/index.html)\n",
    "- [IMDb Advanced Search](https://www.imdb.com/search/title/)\n"
   ]
  },
  {
   "cell_type": "markdown",
   "id": "3519921d-5890-445b-9a33-934ed8ee378c",
   "metadata": {
    "id": "3519921d-5890-445b-9a33-934ed8ee378c"
   },
   "source": [
    "**Hint**\n",
    "\n",
    "Your first mission is to familiarize yourself with the IMDb advanced search page. Head over to [IMDb advanced search](https://www.imdb.com/search/title/) and input the following parameters, keeping all other fields to their default values or blank:\n",
    "\n",
    "- **Title Type**: Feature film\n",
    "- **Release date**: From 1990 to 1992 (Note: You don't need to specify the day and month)\n",
    "- **User Rating**: 7.5 to -\n",
    "\n",
    "Upon searching, you'll land on a page showcasing a list of movies, each displaying vital details such as the title, release year, and crew information. Your task is to scrape this treasure trove of data.\n",
    "\n",
    "Carefully examine the resulting URL and construct your own URL to include all the necessary parameters for filtering the movies."
   ]
  },
  {
   "cell_type": "markdown",
   "id": "25a83a0d-a742-49f6-985e-e27887cbf922",
   "metadata": {
    "id": "25a83a0d-a742-49f6-985e-e27887cbf922"
   },
   "source": [
    "\n",
    "---\n",
    "\n",
    "**Best of luck! Immerse yourself in the world of movies and may the data be with you!**"
   ]
  },
  {
   "cell_type": "markdown",
   "id": "7b75cf0d-9afa-4eec-a9e2-befeac68b2a0",
   "metadata": {
    "id": "7b75cf0d-9afa-4eec-a9e2-befeac68b2a0"
   },
   "source": [
    "**Important note**:\n",
    "\n",
    "In the fast-changing online world, websites often get updates and make changes. When you try this lab, the IMDb website might be different from what we expect.\n",
    "\n",
    "If you run into problems because of these changes, like new rules or things that stop you from getting data, don't worry! Instead, get creative.\n",
    "\n",
    "You can choose another website that interests you and is good for scraping data. Websites like Wikipedia or The New York Times are good options. The main goal is still the same: get useful data and learn how to scrape it from a website that you find interesting. It's a chance to practice your web scraping skills and explore a source of information you like."
   ]
  },
  {
   "cell_type": "code",
   "execution_count": 38,
   "id": "0356fd63",
   "metadata": {},
   "outputs": [
    {
     "data": {
      "text/markdown": [
       "**Position:** 1.  \n",
       "**Movie:** Matrix  \n",
       "**Year:** 1999  \n",
       "**Rating:** 8.7  \n",
       "**Runtime:** 136 min  \n",
       "**Genre:** Action, Sci-Fi  \n",
       "**Description:** When a beautiful stranger leads computer hacker Neo to a forbidding underworld, he discovers the shocking truth--the life he knows is the elaborate deception of an evil cyber-intelligence.  \n",
       "**Director:** Lana Wachowski, Lilly Wachowski  \n",
       "**Stars:** Keanu Reeves, Laurence Fishburne, Carrie-Anne Moss, Hugo Weaving  \n",
       "**Votes:** 2,036,639  \n",
       "**Gross:** $171.48M  \n",
       "**Details:** [Link](https://www.imdb.com/title/tt0133093/)"
      ],
      "text/plain": [
       "<IPython.core.display.Markdown object>"
      ]
     },
     "metadata": {},
     "output_type": "display_data"
    },
    {
     "data": {
      "text/html": [
       "<img src=\"https://m.media-amazon.com/images/M/MV5BNzQzOTk3OTAtNDQ0Zi00ZTVkLWI0MTEtMDllZjNkYzNjNTc4L2ltYWdlXkEyXkFqcGdeQXVyNjU0OTQ0OTY@._V1_UX140_CR0,0,140,209_AL_.jpg\"/>"
      ],
      "text/plain": [
       "<IPython.core.display.Image object>"
      ]
     },
     "metadata": {},
     "output_type": "display_data"
    },
    {
     "data": {
      "text/markdown": [
       "**Position:** 2.  \n",
       "**Movie:** Sieben  \n",
       "**Year:** 1995  \n",
       "**Rating:** 8.6  \n",
       "**Runtime:** 127 min  \n",
       "**Genre:** Crime, Drama, Mystery  \n",
       "**Description:** Two detectives, a rookie and a veteran, hunt a serial killer who uses the seven deadly sins as his motives.  \n",
       "**Director:** David Fincher  \n",
       "**Stars:** Morgan Freeman, Brad Pitt, Kevin Spacey, Andrew Kevin Walker  \n",
       "**Votes:** 1,783,439  \n",
       "**Gross:** $100.13M  \n",
       "**Details:** [Link](https://www.imdb.com/title/tt0114369/)"
      ],
      "text/plain": [
       "<IPython.core.display.Markdown object>"
      ]
     },
     "metadata": {},
     "output_type": "display_data"
    },
    {
     "data": {
      "text/html": [
       "<img src=\"https://m.media-amazon.com/images/M/MV5BOTUwODM5MTctZjczMi00OTk4LTg3NWUtNmVhMTAzNTNjYjcyXkEyXkFqcGdeQXVyNjU0OTQ0OTY@._V1_UX140_CR0,0,140,209_AL_.jpg\"/>"
      ],
      "text/plain": [
       "<IPython.core.display.Image object>"
      ]
     },
     "metadata": {},
     "output_type": "display_data"
    },
    {
     "data": {
      "text/markdown": [
       "**Position:** 3.  \n",
       "**Movie:** Die Verurteilten  \n",
       "**Year:** 1994  \n",
       "**Rating:** 9.3  \n",
       "**Runtime:** 142 min  \n",
       "**Genre:** Drama  \n",
       "**Description:** Over the course of several years, two convicts form a friendship, seeking consolation and, eventually, redemption through basic compassion.  \n",
       "**Director:** Frank Darabont  \n",
       "**Stars:** Tim Robbins, Morgan Freeman, Bob Gunton, William Sadler  \n",
       "**Votes:** 2,866,404  \n",
       "**Gross:** $28.34M  \n",
       "**Details:** [Link](https://www.imdb.com/title/tt0111161/)"
      ],
      "text/plain": [
       "<IPython.core.display.Markdown object>"
      ]
     },
     "metadata": {},
     "output_type": "display_data"
    },
    {
     "data": {
      "text/html": [
       "<img src=\"https://m.media-amazon.com/images/M/MV5BNDE3ODcxYzMtY2YzZC00NmNlLWJiNDMtZDViZWM2MzIxZDYwXkEyXkFqcGdeQXVyNjAwNDUxODI@._V1_UX140_CR0,0,140,209_AL_.jpg\"/>"
      ],
      "text/plain": [
       "<IPython.core.display.Image object>"
      ]
     },
     "metadata": {},
     "output_type": "display_data"
    },
    {
     "data": {
      "text/markdown": [
       "**Position:** 4.  \n",
       "**Movie:** Die üblichen Verdächtigen  \n",
       "**Year:** 1995  \n",
       "**Rating:** 8.5  \n",
       "**Runtime:** 106 min  \n",
       "**Genre:** Crime, Drama, Mystery  \n",
       "**Description:** The sole survivor of a pier shoot-out tells the story of how a notorious criminal influenced the events that began with five criminals meeting in a seemingly random police lineup.  \n",
       "**Director:** Bryan Singer  \n",
       "**Stars:** Kevin Spacey, Gabriel Byrne, Chazz Palminteri, Stephen Baldwin  \n",
       "**Votes:** 1,139,100  \n",
       "**Gross:** $23.34M  \n",
       "**Details:** [Link](https://www.imdb.com/title/tt0114814/)"
      ],
      "text/plain": [
       "<IPython.core.display.Markdown object>"
      ]
     },
     "metadata": {},
     "output_type": "display_data"
    },
    {
     "data": {
      "text/html": [
       "<img src=\"https://m.media-amazon.com/images/M/MV5BYTViNjMyNmUtNDFkNC00ZDRlLThmMDUtZDU2YWE4NGI2ZjVmXkEyXkFqcGdeQXVyNjU0OTQ0OTY@._V1_UY209_CR0,0,140,209_AL_.jpg\"/>"
      ],
      "text/plain": [
       "<IPython.core.display.Image object>"
      ]
     },
     "metadata": {},
     "output_type": "display_data"
    },
    {
     "data": {
      "text/markdown": [
       "**Position:** 5.  \n",
       "**Movie:** Pulp Fiction  \n",
       "**Year:** 1994  \n",
       "**Rating:** 8.9  \n",
       "**Runtime:** 154 min  \n",
       "**Genre:** Crime, Drama  \n",
       "**Description:** The lives of two mob hitmen, a boxer, a gangster and his wife, and a pair of diner bandits intertwine in four tales of violence and redemption.  \n",
       "**Director:** Quentin Tarantino  \n",
       "**Stars:** John Travolta, Uma Thurman, Samuel L. Jackson, Bruce Willis  \n",
       "**Votes:** 2,201,373  \n",
       "**Gross:** $107.93M  \n",
       "**Details:** [Link](https://www.imdb.com/title/tt0110912/)"
      ],
      "text/plain": [
       "<IPython.core.display.Markdown object>"
      ]
     },
     "metadata": {},
     "output_type": "display_data"
    },
    {
     "data": {
      "text/html": [
       "<img src=\"https://m.media-amazon.com/images/M/MV5BNGNhMDIzZTUtNTBlZi00MTRlLWFjM2ItYzViMjE3YzI5MjljXkEyXkFqcGdeQXVyNzkwMjQ5NzM@._V1_UY209_CR2,0,140,209_AL_.jpg\"/>"
      ],
      "text/plain": [
       "<IPython.core.display.Image object>"
      ]
     },
     "metadata": {},
     "output_type": "display_data"
    },
    {
     "data": {
      "text/markdown": [
       "**Position:** 6.  \n",
       "**Movie:** Taxi Driver  \n",
       "**Year:** 1976  \n",
       "**Rating:** 8.2  \n",
       "**Runtime:** 114 min  \n",
       "**Genre:** Crime, Drama  \n",
       "**Description:** A mentally unstable veteran works as a nighttime taxi driver in New York City, where the perceived decadence and sleaze fuels his urge for violent action.  \n",
       "**Director:** Martin Scorsese  \n",
       "**Stars:** Robert De Niro, Jodie Foster, Cybill Shepherd, Albert Brooks  \n",
       "**Votes:** 912,947  \n",
       "**Gross:** $28.26M  \n",
       "**Details:** [Link](https://www.imdb.com/title/tt0075314/)"
      ],
      "text/plain": [
       "<IPython.core.display.Markdown object>"
      ]
     },
     "metadata": {},
     "output_type": "display_data"
    },
    {
     "data": {
      "text/html": [
       "<img src=\"https://m.media-amazon.com/images/M/MV5BM2M1MmVhNDgtNmI0YS00ZDNmLTkyNjctNTJiYTQ2N2NmYzc2XkEyXkFqcGdeQXVyNzkwMjQ5NzM@._V1_UX140_CR0,0,140,209_AL_.jpg\"/>"
      ],
      "text/plain": [
       "<IPython.core.display.Image object>"
      ]
     },
     "metadata": {},
     "output_type": "display_data"
    },
    {
     "data": {
      "text/markdown": [
       "**Position:** 7.  \n",
       "**Movie:** Zurück in die Zukunft  \n",
       "**Year:** 1985  \n",
       "**Rating:** 8.5  \n",
       "**Runtime:** 116 min  \n",
       "**Genre:** Adventure, Comedy, Sci-Fi  \n",
       "**Description:** Marty McFly, a 17-year-old high school student, is accidentally sent 30 years into the past in a time-traveling DeLorean invented by his close friend, the maverick scientist Doc Brown.  \n",
       "**Director:** Robert Zemeckis  \n",
       "**Stars:** Michael J. Fox, Christopher Lloyd, Lea Thompson, Crispin Glover  \n",
       "**Votes:** 1,296,792  \n",
       "**Gross:** $210.61M  \n",
       "**Details:** [Link](https://www.imdb.com/title/tt0088763/)"
      ],
      "text/plain": [
       "<IPython.core.display.Markdown object>"
      ]
     },
     "metadata": {},
     "output_type": "display_data"
    },
    {
     "data": {
      "text/html": [
       "<img src=\"https://m.media-amazon.com/images/M/MV5BZmU0M2Y1OGUtZjIxNi00ZjBkLTg1MjgtOWIyNThiZWIwYjRiXkEyXkFqcGdeQXVyMTQxNzMzNDI@._V1_UX140_CR0,0,140,209_AL_.jpg\"/>"
      ],
      "text/plain": [
       "<IPython.core.display.Image object>"
      ]
     },
     "metadata": {},
     "output_type": "display_data"
    },
    {
     "data": {
      "text/markdown": [
       "**Position:** 8.  \n",
       "**Movie:** Casablanca  \n",
       "**Year:** 1942  \n",
       "**Rating:** 8.5  \n",
       "**Runtime:** 102 min  \n",
       "**Genre:** Drama, Romance, War  \n",
       "**Description:** A cynical expatriate American cafe owner struggles to decide whether or not to help his former lover and her fugitive husband escape the Nazis in French Morocco.  \n",
       "**Director:** Michael Curtiz  \n",
       "**Stars:** Humphrey Bogart, Ingrid Bergman, Paul Henreid, Claude Rains  \n",
       "**Votes:** 602,685  \n",
       "**Gross:** $1.02M  \n",
       "**Details:** [Link](https://www.imdb.com/title/tt0034583/)"
      ],
      "text/plain": [
       "<IPython.core.display.Markdown object>"
      ]
     },
     "metadata": {},
     "output_type": "display_data"
    },
    {
     "data": {
      "text/html": [
       "<img src=\"https://m.media-amazon.com/images/M/MV5BY2IzZGY2YmEtYzljNS00NTM5LTgwMzUtMzM1NjQ4NGI0OTk0XkEyXkFqcGdeQXVyNDYyMDk5MTU@._V1_UX140_CR0,0,140,209_AL_.jpg\"/>"
      ],
      "text/plain": [
       "<IPython.core.display.Image object>"
      ]
     },
     "metadata": {},
     "output_type": "display_data"
    },
    {
     "data": {
      "text/markdown": [
       "**Position:** 9.  \n",
       "**Movie:** Der weiße Hai  \n",
       "**Year:** 1975  \n",
       "**Rating:** 8.1  \n",
       "**Runtime:** 124 min  \n",
       "**Genre:** Adventure, Mystery, Thriller  \n",
       "**Description:** When a killer shark unleashes chaos on a beach community off Cape Cod, it's up to a local sheriff, a marine biologist, and an old seafarer to hunt the beast down.  \n",
       "**Director:** Steven Spielberg  \n",
       "**Stars:** Roy Scheider, Robert Shaw, Richard Dreyfuss, Lorraine Gary  \n",
       "**Votes:** 655,023  \n",
       "**Gross:** $260.00M  \n",
       "**Details:** [Link](https://www.imdb.com/title/tt0073195/)"
      ],
      "text/plain": [
       "<IPython.core.display.Markdown object>"
      ]
     },
     "metadata": {},
     "output_type": "display_data"
    },
    {
     "data": {
      "text/html": [
       "<img src=\"https://m.media-amazon.com/images/M/MV5BMmVmODY1MzEtYTMwZC00MzNhLWFkNDMtZjAwM2EwODUxZTA5XkEyXkFqcGdeQXVyNTAyODkwOQ@@._V1_UX140_CR0,0,140,209_AL_.jpg\"/>"
      ],
      "text/plain": [
       "<IPython.core.display.Image object>"
      ]
     },
     "metadata": {},
     "output_type": "display_data"
    },
    {
     "data": {
      "text/markdown": [
       "**Position:** 10.  \n",
       "**Movie:** Goldfinger  \n",
       "**Year:** 1964  \n",
       "**Rating:** 7.7  \n",
       "**Runtime:** 110 min  \n",
       "**Genre:** Action, Adventure, Thriller  \n",
       "**Description:** While investigating a gold magnate's smuggling, James Bond uncovers a plot to contaminate the Fort Knox gold reserve.  \n",
       "**Director:** Guy Hamilton  \n",
       "**Stars:** Sean Connery, Gert Fröbe, Honor Blackman, Shirley Eaton  \n",
       "**Votes:** 201,571  \n",
       "**Gross:** $51.08M  \n",
       "**Details:** [Link](https://www.imdb.com/title/tt0058150/)"
      ],
      "text/plain": [
       "<IPython.core.display.Markdown object>"
      ]
     },
     "metadata": {},
     "output_type": "display_data"
    },
    {
     "data": {
      "text/html": [
       "<img src=\"https://m.media-amazon.com/images/M/MV5BMTQ2MzE0OTU3NV5BMl5BanBnXkFtZTcwNjQxNTgzNA@@._V1_UX140_CR0,0,140,209_AL_.jpg\"/>"
      ],
      "text/plain": [
       "<IPython.core.display.Image object>"
      ]
     },
     "metadata": {},
     "output_type": "display_data"
    },
    {
     "data": {
      "text/markdown": [
       "**Position:** 11.  \n",
       "**Movie:** Das Schweigen der Lämmer  \n",
       "**Year:** 1991  \n",
       "**Rating:** 8.6  \n",
       "**Runtime:** 118 min  \n",
       "**Genre:** Crime, Drama, Thriller  \n",
       "**Description:** A young F.B.I. cadet must receive the help of an incarcerated and manipulative cannibal killer to help catch another serial killer, a madman who skins his victims.  \n",
       "**Director:** Jonathan Demme  \n",
       "**Stars:** Jodie Foster, Anthony Hopkins, Scott Glenn, Ted Levine  \n",
       "**Votes:** 1,536,511  \n",
       "**Gross:** $130.74M  \n",
       "**Details:** [Link](https://www.imdb.com/title/tt0102926/)"
      ],
      "text/plain": [
       "<IPython.core.display.Markdown object>"
      ]
     },
     "metadata": {},
     "output_type": "display_data"
    },
    {
     "data": {
      "text/html": [
       "<img src=\"https://m.media-amazon.com/images/M/MV5BNjNhZTk0ZmEtNjJhMi00YzFlLWE1MmEtYzM1M2ZmMGMwMTU4XkEyXkFqcGdeQXVyNjU0OTQ0OTY@._V1_UY209_CR1,0,140,209_AL_.jpg\"/>"
      ],
      "text/plain": [
       "<IPython.core.display.Image object>"
      ]
     },
     "metadata": {},
     "output_type": "display_data"
    },
    {
     "data": {
      "text/markdown": [
       "**Position:** 12.  \n",
       "**Movie:** Das Imperium schlägt zurück  \n",
       "**Year:** 1980  \n",
       "**Rating:** 8.7  \n",
       "**Runtime:** 124 min  \n",
       "**Genre:** Action, Adventure, Fantasy  \n",
       "**Description:** After the Rebels are overpowered by the Empire, Luke Skywalker begins his Jedi training with Yoda, while his friends are pursued across the galaxy by Darth Vader and bounty hunter Boba Fett.  \n",
       "**Director:** Irvin Kershner  \n",
       "**Stars:** Mark Hamill, Harrison Ford, Carrie Fisher, Billy Dee Williams  \n",
       "**Votes:** 1,370,435  \n",
       "**Gross:** $290.48M  \n",
       "**Details:** [Link](https://www.imdb.com/title/tt0080684/)"
      ],
      "text/plain": [
       "<IPython.core.display.Markdown object>"
      ]
     },
     "metadata": {},
     "output_type": "display_data"
    },
    {
     "data": {
      "text/html": [
       "<img src=\"https://m.media-amazon.com/images/M/MV5BYmU1NDRjNDgtMzhiMi00NjZmLTg5NGItZDNiZjU5NTU4OTE0XkEyXkFqcGdeQXVyNzkwMjQ5NzM@._V1_UX140_CR0,0,140,209_AL_.jpg\"/>"
      ],
      "text/plain": [
       "<IPython.core.display.Image object>"
      ]
     },
     "metadata": {},
     "output_type": "display_data"
    },
    {
     "data": {
      "text/markdown": [
       "**Position:** 13.  \n",
       "**Movie:** Fight Club  \n",
       "**Year:** 1999  \n",
       "**Rating:** 8.8  \n",
       "**Runtime:** 139 min  \n",
       "**Genre:** Drama  \n",
       "**Description:** An insomniac office worker and a devil-may-care soap maker form an underground fight club that evolves into much more.  \n",
       "**Director:** David Fincher  \n",
       "**Stars:** Brad Pitt, Edward Norton, Meat Loaf, Zach Grenier  \n",
       "**Votes:** 2,301,740  \n",
       "**Gross:** $37.03M  \n",
       "**Details:** [Link](https://www.imdb.com/title/tt0137523/)"
      ],
      "text/plain": [
       "<IPython.core.display.Markdown object>"
      ]
     },
     "metadata": {},
     "output_type": "display_data"
    },
    {
     "data": {
      "text/html": [
       "<img src=\"https://m.media-amazon.com/images/M/MV5BMmEzNTkxYjQtZTc0MC00YTVjLTg5ZTEtZWMwOWVlYzY0NWIwXkEyXkFqcGdeQXVyNzkwMjQ5NzM@._V1_UX140_CR0,0,140,209_AL_.jpg\"/>"
      ],
      "text/plain": [
       "<IPython.core.display.Image object>"
      ]
     },
     "metadata": {},
     "output_type": "display_data"
    },
    {
     "data": {
      "text/markdown": [
       "**Position:** 14.  \n",
       "**Movie:** Die Faust im Nacken  \n",
       "**Year:** 1954  \n",
       "**Rating:** 8.1  \n",
       "**Runtime:** 108 min  \n",
       "**Genre:** Crime, Drama, Thriller  \n",
       "**Description:** An ex-prize fighter turned New Jersey longshoreman struggles to stand up to his corrupt union bosses, including his older brother, as he starts to connect with the grieving sister of one of the syndicate's victims.  \n",
       "**Director:** Elia Kazan  \n",
       "**Stars:** Marlon Brando, Karl Malden, Lee J. Cobb, Rod Steiger  \n",
       "**Votes:** 163,748  \n",
       "**Gross:** $9.60M  \n",
       "**Details:** [Link](https://www.imdb.com/title/tt0047296/)"
      ],
      "text/plain": [
       "<IPython.core.display.Markdown object>"
      ]
     },
     "metadata": {},
     "output_type": "display_data"
    },
    {
     "data": {
      "text/html": [
       "<img src=\"https://m.media-amazon.com/images/M/MV5BY2I0MWFiZDMtNWQyYy00Njk5LTk3MDktZjZjNTNmZmVkYjkxXkEyXkFqcGdeQXVyNjc1NTYyMjg@._V1_UX140_CR0,0,140,209_AL_.jpg\"/>"
      ],
      "text/plain": [
       "<IPython.core.display.Image object>"
      ]
     },
     "metadata": {},
     "output_type": "display_data"
    },
    {
     "data": {
      "text/markdown": [
       "**Position:** 15.  \n",
       "**Movie:** Vergiss mein nicht  \n",
       "**Year:** 2004  \n",
       "**Rating:** 8.3  \n",
       "**Runtime:** 108 min  \n",
       "**Genre:** Drama, Romance, Sci-Fi  \n",
       "**Description:** When their relationship turns sour, a couple undergoes a medical procedure to have each other erased from their memories for ever.  \n",
       "**Director:** Michel Gondry  \n",
       "**Stars:** Jim Carrey, Kate Winslet, Tom Wilkinson, Gerry Robert Byrne  \n",
       "**Votes:** 1,070,097  \n",
       "**Gross:** $34.40M  \n",
       "**Details:** [Link](https://www.imdb.com/title/tt0338013/)"
      ],
      "text/plain": [
       "<IPython.core.display.Markdown object>"
      ]
     },
     "metadata": {},
     "output_type": "display_data"
    },
    {
     "data": {
      "text/html": [
       "<img src=\"https://m.media-amazon.com/images/M/MV5BMTY4NzcwODg3Nl5BMl5BanBnXkFtZTcwNTEwOTMyMw@@._V1_UY209_CR0,0,140,209_AL_.jpg\"/>"
      ],
      "text/plain": [
       "<IPython.core.display.Image object>"
      ]
     },
     "metadata": {},
     "output_type": "display_data"
    },
    {
     "data": {
      "text/markdown": [
       "**Position:** 16.  \n",
       "**Movie:** Philadelphia  \n",
       "**Year:** 1993  \n",
       "**Rating:** 7.7  \n",
       "**Runtime:** 125 min  \n",
       "**Genre:** Drama  \n",
       "**Description:** When a man with HIV is fired by his law firm because of his condition, he hires a homophobic small time lawyer as the only willing advocate for a wrongful dismissal suit.  \n",
       "**Director:** Jonathan Demme  \n",
       "**Stars:** Tom Hanks, Denzel Washington, Roberta Maxwell, Buzz Kilman  \n",
       "**Votes:** 256,752  \n",
       "**Gross:** $77.32M  \n",
       "**Details:** [Link](https://www.imdb.com/title/tt0107818/)"
      ],
      "text/plain": [
       "<IPython.core.display.Markdown object>"
      ]
     },
     "metadata": {},
     "output_type": "display_data"
    },
    {
     "data": {
      "text/html": [
       "<img src=\"https://m.media-amazon.com/images/M/MV5BNDE0MWE1ZTMtOWFkMS00YjdiLTkwZTItMDljYjY3MjM0NTk5XkEyXkFqcGdeQXVyNDYyMDk5MTU@._V1_UX140_CR0,0,140,209_AL_.jpg\"/>"
      ],
      "text/plain": [
       "<IPython.core.display.Image object>"
      ]
     },
     "metadata": {},
     "output_type": "display_data"
    },
    {
     "data": {
      "text/markdown": [
       "**Position:** 17.  \n",
       "**Movie:** Du sollst mein Glücksstern sein  \n",
       "**Year:** 1952  \n",
       "**Rating:** 8.3  \n",
       "**Runtime:** 103 min  \n",
       "**Genre:** Comedy, Musical, Romance  \n",
       "**Description:** A silent film star falls for a chorus girl just as he and his delusionally jealous screen partner are trying to make the difficult transition to talking pictures in 1920s Hollywood.  \n",
       "**Director:** Stanley Donen, Gene Kelly  \n",
       "**Stars:** Gene Kelly, Donald O'Connor, Debbie Reynolds, Jean Hagen  \n",
       "**Votes:** 258,924  \n",
       "**Gross:** $8.82M  \n",
       "**Details:** [Link](https://www.imdb.com/title/tt0045152/)"
      ],
      "text/plain": [
       "<IPython.core.display.Markdown object>"
      ]
     },
     "metadata": {},
     "output_type": "display_data"
    },
    {
     "data": {
      "text/html": [
       "<img src=\"https://m.media-amazon.com/images/M/MV5BZDRjNGViMjQtOThlMi00MTA3LThkYzQtNzJkYjBkMGE0YzE1XkEyXkFqcGdeQXVyNDYyMDk5MTU@._V1_UY209_CR1,0,140,209_AL_.jpg\"/>"
      ],
      "text/plain": [
       "<IPython.core.display.Image object>"
      ]
     },
     "metadata": {},
     "output_type": "display_data"
    },
    {
     "data": {
      "text/markdown": [
       "**Position:** 18.  \n",
       "**Movie:** Der Blade Runner  \n",
       "**Year:** 1982  \n",
       "**Rating:** 8.1  \n",
       "**Runtime:** 117 min  \n",
       "**Genre:** Action, Drama, Sci-Fi  \n",
       "**Description:** A blade runner must pursue and terminate four replicants who stole a ship in space and have returned to Earth to find their creator.  \n",
       "**Director:** Ridley Scott  \n",
       "**Stars:** Harrison Ford, Rutger Hauer, Sean Young, Edward James Olmos  \n",
       "**Votes:** 817,582  \n",
       "**Gross:** $32.87M  \n",
       "**Details:** [Link](https://www.imdb.com/title/tt0083658/)"
      ],
      "text/plain": [
       "<IPython.core.display.Markdown object>"
      ]
     },
     "metadata": {},
     "output_type": "display_data"
    },
    {
     "data": {
      "text/html": [
       "<img src=\"https://m.media-amazon.com/images/M/MV5BNzQzMzJhZTEtOWM4NS00MTdhLTg0YjgtMjM4MDRkZjUwZDBlXkEyXkFqcGdeQXVyNjU0OTQ0OTY@._V1_UY209_CR0,0,140,209_AL_.jpg\"/>"
      ],
      "text/plain": [
       "<IPython.core.display.Image object>"
      ]
     },
     "metadata": {},
     "output_type": "display_data"
    },
    {
     "data": {
      "text/markdown": [
       "**Position:** 19.  \n",
       "**Movie:** Moulin Rouge!  \n",
       "**Year:** 2001  \n",
       "**Rating:** 7.6  \n",
       "**Runtime:** 127 min  \n",
       "**Genre:** Drama, Musical, Romance  \n",
       "**Description:** A poor Bohemian poet in 1890s Paris falls for a beautiful courtesan and nightclub star coveted by a jealous duke.  \n",
       "**Director:** Baz Luhrmann  \n",
       "**Stars:** Nicole Kidman, Ewan McGregor, John Leguizamo, Jim Broadbent  \n",
       "**Votes:** 298,064  \n",
       "**Gross:** $57.39M  \n",
       "**Details:** [Link](https://www.imdb.com/title/tt0203009/)"
      ],
      "text/plain": [
       "<IPython.core.display.Markdown object>"
      ]
     },
     "metadata": {},
     "output_type": "display_data"
    },
    {
     "data": {
      "text/html": [
       "<img src=\"https://m.media-amazon.com/images/M/MV5BMWFhYjliNjYtYjNhNS00OGExLWFhMjQtNDgwOWYyNWJiYzhmXkEyXkFqcGdeQXVyMTMxODk2OTU@._V1_UY209_CR0,0,140,209_AL_.jpg\"/>"
      ],
      "text/plain": [
       "<IPython.core.display.Image object>"
      ]
     },
     "metadata": {},
     "output_type": "display_data"
    },
    {
     "data": {
      "text/markdown": [
       "**Position:** 20.  \n",
       "**Movie:** Ghostbusters - Die Geisterjäger  \n",
       "**Year:** 1984  \n",
       "**Rating:** 7.8  \n",
       "**Runtime:** 105 min  \n",
       "**Genre:** Action, Comedy, Fantasy  \n",
       "**Description:** Three parapsychologists forced out of their university funding set up shop as a unique ghost removal service in New York City, attracting frightened yet skeptical customers.  \n",
       "**Director:** Ivan Reitman  \n",
       "**Stars:** Bill Murray, Dan Aykroyd, Sigourney Weaver, Harold Ramis  \n",
       "**Votes:** 442,485  \n",
       "**Gross:** $238.63M  \n",
       "**Details:** [Link](https://www.imdb.com/title/tt0087332/)"
      ],
      "text/plain": [
       "<IPython.core.display.Markdown object>"
      ]
     },
     "metadata": {},
     "output_type": "display_data"
    },
    {
     "data": {
      "text/html": [
       "<img src=\"https://m.media-amazon.com/images/M/MV5BMTkxMjYyNzgwMl5BMl5BanBnXkFtZTgwMTE3MjYyMTE@._V1_UX140_CR0,0,140,209_AL_.jpg\"/>"
      ],
      "text/plain": [
       "<IPython.core.display.Image object>"
      ]
     },
     "metadata": {},
     "output_type": "display_data"
    },
    {
     "data": {
      "text/markdown": [
       "**Position:** 21.  \n",
       "**Movie:** Indiana Jones und der letzte Kreuzzug  \n",
       "**Year:** 1989  \n",
       "**Rating:** 8.2  \n",
       "**Runtime:** 127 min  \n",
       "**Genre:** Action, Adventure  \n",
       "**Description:** In 1938, after his father goes missing while pursuing the Holy Grail, Indiana Jones finds himself up against the Nazis again to stop them from obtaining its powers.  \n",
       "**Director:** Steven Spielberg  \n",
       "**Stars:** Harrison Ford, Sean Connery, Alison Doody, Denholm Elliott  \n",
       "**Votes:** 806,758  \n",
       "**Gross:** $197.17M  \n",
       "**Details:** [Link](https://www.imdb.com/title/tt0097576/)"
      ],
      "text/plain": [
       "<IPython.core.display.Markdown object>"
      ]
     },
     "metadata": {},
     "output_type": "display_data"
    },
    {
     "data": {
      "text/html": [
       "<img src=\"https://m.media-amazon.com/images/M/MV5BY2Q0ODg4ZmItNDZiYi00ZWY5LTg2NzctNmYwZjA5OThmNzE1XkEyXkFqcGdeQXVyMjM4MzQ4OTQ@._V1_UY209_CR0,0,140,209_AL_.jpg\"/>"
      ],
      "text/plain": [
       "<IPython.core.display.Image object>"
      ]
     },
     "metadata": {},
     "output_type": "display_data"
    },
    {
     "data": {
      "text/markdown": [
       "**Position:** 22.  \n",
       "**Movie:** Kill Bill - Vol. 1  \n",
       "**Year:** 2003  \n",
       "**Rating:** 8.2  \n",
       "**Runtime:** 111 min  \n",
       "**Genre:** Action, Crime, Thriller  \n",
       "**Description:** After awakening from a four-year coma, a former assassin wreaks vengeance on the team of assassins who betrayed her.  \n",
       "**Director:** Quentin Tarantino  \n",
       "**Stars:** Uma Thurman, David Carradine, Daryl Hannah, Michael Madsen  \n",
       "**Votes:** 1,183,783  \n",
       "**Gross:** $70.10M  \n",
       "**Details:** [Link](https://www.imdb.com/title/tt0266697/)"
      ],
      "text/plain": [
       "<IPython.core.display.Markdown object>"
      ]
     },
     "metadata": {},
     "output_type": "display_data"
    },
    {
     "data": {
      "text/html": [
       "<img src=\"https://m.media-amazon.com/images/M/MV5BNzM3NDFhYTAtYmU5Mi00NGRmLTljYjgtMDkyODQ4MjNkMGY2XkEyXkFqcGdeQXVyNzkwMjQ5NzM@._V1_UX140_CR0,0,140,209_AL_.jpg\"/>"
      ],
      "text/plain": [
       "<IPython.core.display.Image object>"
      ]
     },
     "metadata": {},
     "output_type": "display_data"
    },
    {
     "data": {
      "text/markdown": [
       "**Position:** 23.  \n",
       "**Movie:** Reservoir Dogs - Wilde Hunde  \n",
       "**Year:** 1992  \n",
       "**Rating:** 8.3  \n",
       "**Runtime:** 99 min  \n",
       "**Genre:** Crime, Thriller  \n",
       "**Description:** When a simple jewelry heist goes horribly wrong, the surviving criminals begin to suspect that one of them is a police informant.  \n",
       "**Director:** Quentin Tarantino  \n",
       "**Stars:** Harvey Keitel, Tim Roth, Michael Madsen, Chris Penn  \n",
       "**Votes:** 1,081,205  \n",
       "**Gross:** $2.83M  \n",
       "**Details:** [Link](https://www.imdb.com/title/tt0105236/)"
      ],
      "text/plain": [
       "<IPython.core.display.Markdown object>"
      ]
     },
     "metadata": {},
     "output_type": "display_data"
    },
    {
     "data": {
      "text/html": [
       "<img src=\"https://m.media-amazon.com/images/M/MV5BZmExNmEwYWItYmQzOS00YjA5LTk2MjktZjEyZDE1Y2QxNjA1XkEyXkFqcGdeQXVyMTQxNzMzNDI@._V1_UY209_CR0,0,140,209_AL_.jpg\"/>"
      ],
      "text/plain": [
       "<IPython.core.display.Image object>"
      ]
     },
     "metadata": {},
     "output_type": "display_data"
    },
    {
     "data": {
      "text/markdown": [
       "**Position:** 24.  \n",
       "**Movie:** Einer flog über das Kuckucksnest  \n",
       "**Year:** 1975  \n",
       "**Rating:** 8.7  \n",
       "**Runtime:** 133 min  \n",
       "**Genre:** Drama  \n",
       "**Description:** In the Fall of 1963, a Korean War veteran and criminal pleads insanity and is admitted to a mental institution, where he rallies up the scared patients against the tyrannical nurse.  \n",
       "**Director:** Milos Forman  \n",
       "**Stars:** Jack Nicholson, Louise Fletcher, Michael Berryman, Peter Brocco  \n",
       "**Votes:** 1,066,038  \n",
       "**Gross:** $112.00M  \n",
       "**Details:** [Link](https://www.imdb.com/title/tt0073486/)"
      ],
      "text/plain": [
       "<IPython.core.display.Markdown object>"
      ]
     },
     "metadata": {},
     "output_type": "display_data"
    },
    {
     "data": {
      "text/html": [
       "<img src=\"https://m.media-amazon.com/images/M/MV5BZjA0OWVhOTAtYWQxNi00YzNhLWI4ZjYtNjFjZTEyYjJlNDVlL2ltYWdlL2ltYWdlXkEyXkFqcGdeQXVyMTQxNzMzNDI@._V1_UY209_CR0,0,140,209_AL_.jpg\"/>"
      ],
      "text/plain": [
       "<IPython.core.display.Image object>"
      ]
     },
     "metadata": {},
     "output_type": "display_data"
    },
    {
     "data": {
      "text/markdown": [
       "**Position:** 25.  \n",
       "**Movie:** Gladiator  \n",
       "**Year:** 2000  \n",
       "**Rating:** 8.5  \n",
       "**Runtime:** 155 min  \n",
       "**Genre:** Action, Adventure, Drama  \n",
       "**Description:** A former Roman General sets out to exact vengeance against the corrupt emperor who murdered his family and sent him into slavery.  \n",
       "**Director:** Ridley Scott  \n",
       "**Stars:** Russell Crowe, Joaquin Phoenix, Connie Nielsen, Oliver Reed  \n",
       "**Votes:** 1,606,859  \n",
       "**Gross:** $187.71M  \n",
       "**Details:** [Link](https://www.imdb.com/title/tt0172495/)"
      ],
      "text/plain": [
       "<IPython.core.display.Markdown object>"
      ]
     },
     "metadata": {},
     "output_type": "display_data"
    },
    {
     "data": {
      "text/html": [
       "<img src=\"https://m.media-amazon.com/images/M/MV5BMDliMmNhNDEtODUyOS00MjNlLTgxODEtN2U3NzIxMGVkZTA1L2ltYWdlXkEyXkFqcGdeQXVyNjU0OTQ0OTY@._V1_UY209_CR0,0,140,209_AL_.jpg\"/>"
      ],
      "text/plain": [
       "<IPython.core.display.Image object>"
      ]
     },
     "metadata": {},
     "output_type": "display_data"
    },
    {
     "data": {
      "text/markdown": [
       "**Position:** 26.  \n",
       "**Movie:** The Dark Knight  \n",
       "**Year:** 2008  \n",
       "**Rating:** 9.0  \n",
       "**Runtime:** 152 min  \n",
       "**Genre:** Action, Crime, Drama  \n",
       "**Description:** When the menace known as the Joker wreaks havoc and chaos on the people of Gotham, Batman must accept one of the greatest psychological and physical tests of his ability to fight injustice.  \n",
       "**Director:** Christopher Nolan  \n",
       "**Stars:** Christian Bale, Heath Ledger, Aaron Eckhart, Michael Caine  \n",
       "**Votes:** 2,847,937  \n",
       "**Gross:** $534.86M  \n",
       "**Details:** [Link](https://www.imdb.com/title/tt0468569/)"
      ],
      "text/plain": [
       "<IPython.core.display.Markdown object>"
      ]
     },
     "metadata": {},
     "output_type": "display_data"
    },
    {
     "data": {
      "text/html": [
       "<img src=\"https://m.media-amazon.com/images/M/MV5BMTMxNTMwODM0NF5BMl5BanBnXkFtZTcwODAyMTk2Mw@@._V1_UY209_CR0,0,140,209_AL_.jpg\"/>"
      ],
      "text/plain": [
       "<IPython.core.display.Image object>"
      ]
     },
     "metadata": {},
     "output_type": "display_data"
    },
    {
     "data": {
      "text/markdown": [
       "**Position:** 27.  \n",
       "**Movie:** Harry und Sally  \n",
       "**Year:** 1989  \n",
       "**Rating:** 7.7  \n",
       "**Runtime:** 95 min  \n",
       "**Genre:** Comedy, Drama, Romance  \n",
       "**Description:** Harry and Sally have known each other for years, and are very good friends, but they fear sex would ruin the friendship.  \n",
       "**Director:** Rob Reiner  \n",
       "**Stars:** Billy Crystal, Meg Ryan, Carrie Fisher, Bruno Kirby  \n",
       "**Votes:** 240,660  \n",
       "**Gross:** $92.82M  \n",
       "**Details:** [Link](https://www.imdb.com/title/tt0098635/)"
      ],
      "text/plain": [
       "<IPython.core.display.Markdown object>"
      ]
     },
     "metadata": {},
     "output_type": "display_data"
    },
    {
     "data": {
      "text/html": [
       "<img src=\"https://m.media-amazon.com/images/M/MV5BMjE0ODEwNjM2NF5BMl5BanBnXkFtZTcwMjU2Mzg3NA@@._V1_UX140_CR0,0,140,209_AL_.jpg\"/>"
      ],
      "text/plain": [
       "<IPython.core.display.Image object>"
      ]
     },
     "metadata": {},
     "output_type": "display_data"
    },
    {
     "data": {
      "text/markdown": [
       "**Position:** 28.  \n",
       "**Movie:** Das zauberhafte Land  \n",
       "**Year:** 1939  \n",
       "**Rating:** 8.1  \n",
       "**Runtime:** 102 min  \n",
       "**Genre:** Adventure, Family, Fantasy  \n",
       "**Description:** Young Dorothy Gale and her dog Toto are swept away by a tornado from their Kansas farm to the magical Land of Oz, and embark on a quest with three new friends to see the Wizard, who can return her to her home and fulfill the others' wishes.  \n",
       "**Director:** Victor Fleming, King Vidor  \n",
       "**Stars:** Judy Garland, Frank Morgan, Ray Bolger, Bert Lahr  \n",
       "**Votes:** 426,057  \n",
       "**Gross:** $2.08M  \n",
       "**Details:** [Link](https://www.imdb.com/title/tt0032138/)"
      ],
      "text/plain": [
       "<IPython.core.display.Markdown object>"
      ]
     },
     "metadata": {},
     "output_type": "display_data"
    },
    {
     "data": {
      "text/html": [
       "<img src=\"https://m.media-amazon.com/images/M/MV5BY2NjNDU1ZjctN2VhZi00Nzc5LTljNmItMTZiOTg1ODkwYjgwXkEyXkFqcGdeQXVyNTkxMzEwMzU@._V1_UX140_CR0,0,140,209_AL_.jpg\"/>"
      ],
      "text/plain": [
       "<IPython.core.display.Image object>"
      ]
     },
     "metadata": {},
     "output_type": "display_data"
    },
    {
     "data": {
      "text/markdown": [
       "**Position:** 29.  \n",
       "**Movie:** Memento  \n",
       "**Year:** 2000  \n",
       "**Rating:** 8.4  \n",
       "**Runtime:** 113 min  \n",
       "**Genre:** Mystery, Thriller  \n",
       "**Description:** A man with short-term memory loss attempts to track down his wife's murderer.  \n",
       "**Director:** Christopher Nolan  \n",
       "**Stars:** Guy Pearce, Carrie-Anne Moss, Joe Pantoliano, Mark Boone Junior  \n",
       "**Votes:** 1,314,074  \n",
       "**Gross:** $25.54M  \n",
       "**Details:** [Link](https://www.imdb.com/title/tt0209144/)"
      ],
      "text/plain": [
       "<IPython.core.display.Markdown object>"
      ]
     },
     "metadata": {},
     "output_type": "display_data"
    },
    {
     "data": {
      "text/html": [
       "<img src=\"https://m.media-amazon.com/images/M/MV5BZTcyNjk1MjgtOWI3Mi00YzQwLWI5MTktMzY4ZmI2NDAyNzYzXkEyXkFqcGdeQXVyNjU0OTQ0OTY@._V1_UY209_CR1,0,140,209_AL_.jpg\"/>"
      ],
      "text/plain": [
       "<IPython.core.display.Image object>"
      ]
     },
     "metadata": {},
     "output_type": "display_data"
    },
    {
     "data": {
      "text/markdown": [
       "**Position:** 30.  \n",
       "**Movie:** Manche mögen's heiß  \n",
       "**Year:** 1959  \n",
       "**Rating:** 8.2  \n",
       "**Runtime:** 121 min  \n",
       "**Genre:** Comedy, Music, Romance  \n",
       "**Description:** After two male musicians witness a mob hit, they flee the state in an all-female band disguised as women, but further complications set in.  \n",
       "**Director:** Billy Wilder  \n",
       "**Stars:** Marilyn Monroe, Tony Curtis, Jack Lemmon, George Raft  \n",
       "**Votes:** 282,008  \n",
       "**Gross:** $25.00M  \n",
       "**Details:** [Link](https://www.imdb.com/title/tt0053291/)"
      ],
      "text/plain": [
       "<IPython.core.display.Markdown object>"
      ]
     },
     "metadata": {},
     "output_type": "display_data"
    },
    {
     "data": {
      "text/html": [
       "<img src=\"https://m.media-amazon.com/images/M/MV5BNzAyOGIxYjAtMGY2NC00ZTgyLWIwMWEtYzY0OWQ4NDFjOTc5XkEyXkFqcGdeQXVyNjU0OTQ0OTY@._V1_UX140_CR0,0,140,209_AL_.jpg\"/>"
      ],
      "text/plain": [
       "<IPython.core.display.Image object>"
      ]
     },
     "metadata": {},
     "output_type": "display_data"
    },
    {
     "data": {
      "text/markdown": [
       "**Position:** 31.  \n",
       "**Movie:** Stirb langsam  \n",
       "**Year:** 1988  \n",
       "**Rating:** 8.2  \n",
       "**Runtime:** 132 min  \n",
       "**Genre:** Action, Thriller  \n",
       "**Description:** A New York City police officer tries to save his estranged wife and several others taken hostage by terrorists during a Christmas party at the Nakatomi Plaza in Los Angeles.  \n",
       "**Director:** John McTiernan  \n",
       "**Stars:** Bruce Willis, Alan Rickman, Bonnie Bedelia, Reginald VelJohnson  \n",
       "**Votes:** 939,995  \n",
       "**Gross:** $83.01M  \n",
       "**Details:** [Link](https://www.imdb.com/title/tt0095016/)"
      ],
      "text/plain": [
       "<IPython.core.display.Markdown object>"
      ]
     },
     "metadata": {},
     "output_type": "display_data"
    },
    {
     "data": {
      "text/html": [
       "<img src=\"https://m.media-amazon.com/images/M/MV5BZjRlNDUxZjAtOGQ4OC00OTNlLTgxNmQtYTBmMDgwZmNmNjkxXkEyXkFqcGdeQXVyNzkwMjQ5NzM@._V1_UX140_CR0,0,140,209_AL_.jpg\"/>"
      ],
      "text/plain": [
       "<IPython.core.display.Image object>"
      ]
     },
     "metadata": {},
     "output_type": "display_data"
    },
    {
     "data": {
      "text/markdown": [
       "**Position:** 32.  \n",
       "**Movie:** Spider-Man 2  \n",
       "**Year:** 2004  \n",
       "**Rating:** 7.5  \n",
       "**Runtime:** 127 min  \n",
       "**Genre:** Action, Adventure, Sci-Fi  \n",
       "**Description:** Peter Parker is beset with troubles in his failing personal life as he battles a former brilliant scientist named Otto Octavius.  \n",
       "**Director:** Sam Raimi  \n",
       "**Stars:** Tobey Maguire, Kirsten Dunst, Alfred Molina, James Franco  \n",
       "**Votes:** 702,618  \n",
       "**Gross:** $373.59M  \n",
       "**Details:** [Link](https://www.imdb.com/title/tt0316654/)"
      ],
      "text/plain": [
       "<IPython.core.display.Markdown object>"
      ]
     },
     "metadata": {},
     "output_type": "display_data"
    },
    {
     "data": {
      "text/html": [
       "<img src=\"https://m.media-amazon.com/images/M/MV5BMzY2ODk4NmUtOTVmNi00ZTdkLTlmOWYtMmE2OWVhNTU2OTVkXkEyXkFqcGdeQXVyMTQxNzMzNDI@._V1_UY209_CR6,0,140,209_AL_.jpg\"/>"
      ],
      "text/plain": [
       "<IPython.core.display.Image object>"
      ]
     },
     "metadata": {},
     "output_type": "display_data"
    },
    {
     "data": {
      "text/markdown": [
       "**Position:** 33.  \n",
       "**Movie:** Forrest Gump  \n",
       "**Year:** 1994  \n",
       "**Rating:** 8.8  \n",
       "**Runtime:** 142 min  \n",
       "**Genre:** Drama, Romance  \n",
       "**Description:** The history of the United States from the 1950s to the '70s unfolds from the perspective of an Alabama man with an IQ of 75, who yearns to be reunited with his childhood sweetheart.  \n",
       "**Director:** Robert Zemeckis  \n",
       "**Stars:** Tom Hanks, Robin Wright, Gary Sinise, Sally Field  \n",
       "**Votes:** 2,237,927  \n",
       "**Gross:** $330.25M  \n",
       "**Details:** [Link](https://www.imdb.com/title/tt0109830/)"
      ],
      "text/plain": [
       "<IPython.core.display.Markdown object>"
      ]
     },
     "metadata": {},
     "output_type": "display_data"
    },
    {
     "data": {
      "text/html": [
       "<img src=\"https://m.media-amazon.com/images/M/MV5BNWIwODRlZTUtY2U3ZS00Yzg1LWJhNzYtMmZiYmEyNmU1NjMzXkEyXkFqcGdeQXVyMTQxNzMzNDI@._V1_UY209_CR2,0,140,209_AL_.jpg\"/>"
      ],
      "text/plain": [
       "<IPython.core.display.Image object>"
      ]
     },
     "metadata": {},
     "output_type": "display_data"
    },
    {
     "data": {
      "text/markdown": [
       "**Position:** 34.  \n",
       "**Movie:** Hamlet  \n",
       "**Year:** 1996  \n",
       "**Rating:** 7.7  \n",
       "**Runtime:** 242 min  \n",
       "**Genre:** Drama  \n",
       "**Description:** Hamlet, Prince of Denmark, returns home to find his father murdered and his mother remarrying the murderer, his uncle. Meanwhile, war is brewing.  \n",
       "**Director:** Kenneth Branagh  \n",
       "**Stars:** Kenneth Branagh, Julie Christie, Derek Jacobi, Kate Winslet  \n",
       "**Votes:** 39,864  \n",
       "**Gross:** $4.41M  \n",
       "**Details:** [Link](https://www.imdb.com/title/tt0116477/)"
      ],
      "text/plain": [
       "<IPython.core.display.Markdown object>"
      ]
     },
     "metadata": {},
     "output_type": "display_data"
    },
    {
     "data": {
      "text/html": [
       "<img src=\"https://m.media-amazon.com/images/M/MV5BNGQ0OGUyMTctNzk4ZS00YmY5LTlmNWYtMWIyZWYwZjRmOWIzXkEyXkFqcGdeQXVyMTU3NDU4MDg2._V1_UY209_CR1,0,140,209_AL_.jpg\"/>"
      ],
      "text/plain": [
       "<IPython.core.display.Image object>"
      ]
     },
     "metadata": {},
     "output_type": "display_data"
    },
    {
     "data": {
      "text/markdown": [
       "**Position:** 35.  \n",
       "**Movie:** Ed Wood  \n",
       "**Year:** 1994  \n",
       "**Rating:** 7.8  \n",
       "**Runtime:** 127 min  \n",
       "**Genre:** Biography, Comedy, Drama  \n",
       "**Description:** Ambitious but troubled movie director Edward D. Wood Jr. tries his best to fulfill his dreams despite his lack of talent.  \n",
       "**Director:** Tim Burton  \n",
       "**Stars:** Johnny Depp, Martin Landau, Sarah Jessica Parker, Patricia Arquette  \n",
       "**Votes:** 183,367  \n",
       "**Gross:** $5.89M  \n",
       "**Details:** [Link](https://www.imdb.com/title/tt0109707/)"
      ],
      "text/plain": [
       "<IPython.core.display.Markdown object>"
      ]
     },
     "metadata": {},
     "output_type": "display_data"
    },
    {
     "data": {
      "text/html": [
       "<img src=\"https://m.media-amazon.com/images/M/MV5BNTA5ZjdjNWUtZGUwNy00N2RhLWJiZmItYzFhYjU1NmYxNjY4XkEyXkFqcGdeQXVyMTQxNzMzNDI@._V1_UY209_CR0,0,140,209_AL_.jpg\"/>"
      ],
      "text/plain": [
       "<IPython.core.display.Image object>"
      ]
     },
     "metadata": {},
     "output_type": "display_data"
    },
    {
     "data": {
      "text/markdown": [
       "**Position:** 36.  \n",
       "**Movie:** Jurassic Park  \n",
       "**Year:** 1993  \n",
       "**Rating:** 8.2  \n",
       "**Runtime:** 127 min  \n",
       "**Genre:** Action, Adventure, Sci-Fi  \n",
       "**Description:** A pragmatic paleontologist touring an almost complete theme park on an island in Central America is tasked with protecting a couple of kids after a power failure causes the park's cloned dinosaurs to run loose.  \n",
       "**Director:** Steven Spielberg  \n",
       "**Stars:** Sam Neill, Laura Dern, Jeff Goldblum, Richard Attenborough  \n",
       "**Votes:** 1,059,178  \n",
       "**Gross:** $402.45M  \n",
       "**Details:** [Link](https://www.imdb.com/title/tt0107290/)"
      ],
      "text/plain": [
       "<IPython.core.display.Markdown object>"
      ]
     },
     "metadata": {},
     "output_type": "display_data"
    },
    {
     "data": {
      "text/html": [
       "<img src=\"https://m.media-amazon.com/images/M/MV5BMjM2MDgxMDg0Nl5BMl5BanBnXkFtZTgwNTM2OTM5NDE@._V1_UX140_CR0,0,140,209_AL_.jpg\"/>"
      ],
      "text/plain": [
       "<IPython.core.display.Image object>"
      ]
     },
     "metadata": {},
     "output_type": "display_data"
    },
    {
     "data": {
      "text/markdown": [
       "**Position:** 37.  \n",
       "**Movie:** The Sixth Sense - Nicht jede Gabe ist ein Segen  \n",
       "**Year:** 1999  \n",
       "**Rating:** 8.2  \n",
       "**Runtime:** 107 min  \n",
       "**Genre:** Drama, Mystery, Thriller  \n",
       "**Description:** Malcolm Crowe, a child psychologist, starts treating a young boy, Cole, who encounters dead people and convinces him to help them. In turn, Cole helps Malcolm reconcile with his estranged wife.  \n",
       "**Director:** M. Night Shyamalan  \n",
       "**Stars:** Bruce Willis, Haley Joel Osment, Toni Collette, Olivia Williams  \n",
       "**Votes:** 1,045,025  \n",
       "**Gross:** $293.51M  \n",
       "**Details:** [Link](https://www.imdb.com/title/tt0167404/)"
      ],
      "text/plain": [
       "<IPython.core.display.Markdown object>"
      ]
     },
     "metadata": {},
     "output_type": "display_data"
    },
    {
     "data": {
      "text/html": [
       "<img src=\"https://m.media-amazon.com/images/M/MV5BMWM4NTFhYjctNzUyNi00NGMwLTk3NTYtMDIyNTZmMzRlYmQyXkEyXkFqcGdeQXVyMTAwMzUyOTc@._V1_UY209_CR0,0,140,209_AL_.jpg\"/>"
      ],
      "text/plain": [
       "<IPython.core.display.Image object>"
      ]
     },
     "metadata": {},
     "output_type": "display_data"
    },
    {
     "data": {
      "text/markdown": [
       "**Position:** 38.  \n",
       "**Movie:** Das Appartement  \n",
       "**Year:** 1960  \n",
       "**Rating:** 8.3  \n",
       "**Runtime:** 125 min  \n",
       "**Genre:** Comedy, Drama, Romance  \n",
       "**Description:** A Manhattan insurance clerk tries to rise in his company by letting its executives use his apartment for trysts, but complications and a romance of his own ensue.  \n",
       "**Director:** Billy Wilder  \n",
       "**Stars:** Jack Lemmon, Shirley MacLaine, Fred MacMurray, Ray Walston  \n",
       "**Votes:** 195,288  \n",
       "**Gross:** $18.60M  \n",
       "**Details:** [Link](https://www.imdb.com/title/tt0053604/)"
      ],
      "text/plain": [
       "<IPython.core.display.Markdown object>"
      ]
     },
     "metadata": {},
     "output_type": "display_data"
    },
    {
     "data": {
      "text/html": [
       "<img src=\"https://m.media-amazon.com/images/M/MV5BNzkwODFjNzItMmMwNi00MTU5LWE2MzktM2M4ZDczZGM1MmViXkEyXkFqcGdeQXVyNDY2MTk1ODk@._V1_UX140_CR0,0,140,209_AL_.jpg\"/>"
      ],
      "text/plain": [
       "<IPython.core.display.Image object>"
      ]
     },
     "metadata": {},
     "output_type": "display_data"
    },
    {
     "data": {
      "text/markdown": [
       "**Position:** 39.  \n",
       "**Movie:** Shining  \n",
       "**Year:** 1980  \n",
       "**Rating:** 8.4  \n",
       "**Runtime:** 146 min  \n",
       "**Genre:** Drama, Horror  \n",
       "**Description:** A family heads to an isolated hotel for the winter where a sinister presence influences the father into violence, while his psychic son sees horrific forebodings from both past and future.  \n",
       "**Director:** Stanley Kubrick  \n",
       "**Stars:** Jack Nicholson, Shelley Duvall, Danny Lloyd, Scatman Crothers  \n",
       "**Votes:** 1,098,435  \n",
       "**Gross:** $44.02M  \n",
       "**Details:** [Link](https://www.imdb.com/title/tt0081505/)"
      ],
      "text/plain": [
       "<IPython.core.display.Markdown object>"
      ]
     },
     "metadata": {},
     "output_type": "display_data"
    },
    {
     "data": {
      "text/html": [
       "<img src=\"https://m.media-amazon.com/images/M/MV5BZWFlYmY2MGEtZjVkYS00YzU4LTg0YjQtYzY1ZGE3NTA5NGQxXkEyXkFqcGdeQXVyMTQxNzMzNDI@._V1_UX140_CR0,0,140,209_AL_.jpg\"/>"
      ],
      "text/plain": [
       "<IPython.core.display.Image object>"
      ]
     },
     "metadata": {},
     "output_type": "display_data"
    },
    {
     "data": {
      "text/markdown": [
       "**Position:** 40.  \n",
       "**Movie:** Superman  \n",
       "**Year:** 1978  \n",
       "**Rating:** 7.4  \n",
       "**Runtime:** 143 min  \n",
       "**Genre:** Action, Adventure, Sci-Fi  \n",
       "**Description:** An alien orphan is sent from his dying planet to Earth, where he grows up to become his adoptive home's first and greatest superhero.  \n",
       "**Director:** Richard Donner  \n",
       "**Stars:** Christopher Reeve, Margot Kidder, Gene Hackman, Marlon Brando  \n",
       "**Votes:** 186,558  \n",
       "**Gross:** $134.22M  \n",
       "**Details:** [Link](https://www.imdb.com/title/tt0078346/)"
      ],
      "text/plain": [
       "<IPython.core.display.Markdown object>"
      ]
     },
     "metadata": {},
     "output_type": "display_data"
    },
    {
     "data": {
      "text/html": [
       "<img src=\"https://m.media-amazon.com/images/M/MV5BMzA0YWMwMTUtMTVhNC00NjRkLWE2ZTgtOWEzNjJhYzNiMTlkXkEyXkFqcGdeQXVyNjc1NTYyMjg@._V1_UX140_CR0,0,140,209_AL_.jpg\"/>"
      ],
      "text/plain": [
       "<IPython.core.display.Image object>"
      ]
     },
     "metadata": {},
     "output_type": "display_data"
    },
    {
     "data": {
      "text/markdown": [
       "**Position:** 41.  \n",
       "**Movie:** Der Pate  \n",
       "**Year:** 1972  \n",
       "**Rating:** 9.2  \n",
       "**Runtime:** 175 min  \n",
       "**Genre:** Crime, Drama  \n",
       "**Description:** The aging patriarch of an organized crime dynasty transfers control of his clandestine empire to his reluctant son.  \n",
       "**Director:** Francis Ford Coppola  \n",
       "**Stars:** Marlon Brando, Al Pacino, James Caan, Diane Keaton  \n",
       "**Votes:** 1,996,666  \n",
       "**Gross:** $134.97M  \n",
       "**Details:** [Link](https://www.imdb.com/title/tt0068646/)"
      ],
      "text/plain": [
       "<IPython.core.display.Markdown object>"
      ]
     },
     "metadata": {},
     "output_type": "display_data"
    },
    {
     "data": {
      "text/html": [
       "<img src=\"https://m.media-amazon.com/images/M/MV5BM2MyNjYxNmUtYTAwNi00MTYxLWJmNWYtYzZlODY3ZTk3OTFlXkEyXkFqcGdeQXVyNzkwMjQ5NzM@._V1_UY209_CR3,0,140,209_AL_.jpg\"/>"
      ],
      "text/plain": [
       "<IPython.core.display.Image object>"
      ]
     },
     "metadata": {},
     "output_type": "display_data"
    },
    {
     "data": {
      "text/markdown": [
       "**Position:** 42.  \n",
       "**Movie:** E.T. - Der Außerirdische  \n",
       "**Year:** 1982  \n",
       "**Rating:** 7.9  \n",
       "**Runtime:** 115 min  \n",
       "**Genre:** Adventure, Family, Sci-Fi  \n",
       "**Description:** A troubled child summons the courage to help a friendly alien escape from Earth and return to his home planet.  \n",
       "**Director:** Steven Spielberg  \n",
       "**Stars:** Henry Thomas, Drew Barrymore, Peter Coyote, Dee Wallace  \n",
       "**Votes:** 434,991  \n",
       "**Gross:** $435.11M  \n",
       "**Details:** [Link](https://www.imdb.com/title/tt0083866/)"
      ],
      "text/plain": [
       "<IPython.core.display.Markdown object>"
      ]
     },
     "metadata": {},
     "output_type": "display_data"
    },
    {
     "data": {
      "text/html": [
       "<img src=\"https://m.media-amazon.com/images/M/MV5BMTQ2ODFlMDAtNzdhOC00ZDYzLWE3YTMtNDU4ZGFmZmJmYTczXkEyXkFqcGdeQXVyMTQxNzMzNDI@._V1_UX140_CR0,0,140,209_AL_.jpg\"/>"
      ],
      "text/plain": [
       "<IPython.core.display.Image object>"
      ]
     },
     "metadata": {},
     "output_type": "display_data"
    },
    {
     "data": {
      "text/markdown": [
       "**Position:** 43.  \n",
       "**Movie:** Edward mit den Scherenhänden  \n",
       "**Year:** 1990  \n",
       "**Rating:** 7.9  \n",
       "**Runtime:** 105 min  \n",
       "**Genre:** Drama, Fantasy, Romance  \n",
       "**Description:** The solitary life of an artificial man - who was incompletely constructed and has scissors for hands - is upended when he is taken in by a suburban family.  \n",
       "**Director:** Tim Burton  \n",
       "**Stars:** Johnny Depp, Winona Ryder, Dianne Wiest, Anthony Michael Hall  \n",
       "**Votes:** 521,031  \n",
       "**Gross:** $56.36M  \n",
       "**Details:** [Link](https://www.imdb.com/title/tt0099487/)"
      ],
      "text/plain": [
       "<IPython.core.display.Markdown object>"
      ]
     },
     "metadata": {},
     "output_type": "display_data"
    },
    {
     "data": {
      "text/html": [
       "<img src=\"https://m.media-amazon.com/images/M/MV5BMWY2MGRkNjgtZDczNi00YWJjLTkwNmUtMTY0NTE5ZDhkZjgwXkEyXkFqcGdeQXVyMjUzOTY1NTc@._V1_UY209_CR0,0,140,209_AL_.jpg\"/>"
      ],
      "text/plain": [
       "<IPython.core.display.Image object>"
      ]
     },
     "metadata": {},
     "output_type": "display_data"
    },
    {
     "data": {
      "text/markdown": [
       "**Position:** 44.  \n",
       "**Movie:** Kill Bill: Vol. 2  \n",
       "**Year:** 2004  \n",
       "**Rating:** 8.0  \n",
       "**Runtime:** 137 min  \n",
       "**Genre:** Action, Crime, Thriller  \n",
       "**Description:** The Bride continues her quest of vengeance against her former boss and lover Bill, the reclusive bouncer Budd, and the treacherous, one-eyed Elle.  \n",
       "**Director:** Quentin Tarantino  \n",
       "**Stars:** Uma Thurman, David Carradine, Michael Madsen, Daryl Hannah  \n",
       "**Votes:** 799,444  \n",
       "**Gross:** $66.21M  \n",
       "**Details:** [Link](https://www.imdb.com/title/tt0378194/)"
      ],
      "text/plain": [
       "<IPython.core.display.Markdown object>"
      ]
     },
     "metadata": {},
     "output_type": "display_data"
    },
    {
     "data": {
      "text/html": [
       "<img src=\"https://m.media-amazon.com/images/M/MV5BNmFiYmJmN2QtNWQwMi00MzliLThiOWMtZjQxNGRhZTQ1MjgyXkEyXkFqcGdeQXVyNzQ1ODk3MTQ@._V1_UY209_CR0,0,140,209_AL_.jpg\"/>"
      ],
      "text/plain": [
       "<IPython.core.display.Image object>"
      ]
     },
     "metadata": {},
     "output_type": "display_data"
    },
    {
     "data": {
      "text/markdown": [
       "**Position:** 45.  \n",
       "**Movie:** Drive  \n",
       "**Year:** I) (2011  \n",
       "**Rating:** 7.8  \n",
       "**Runtime:** 100 min  \n",
       "**Genre:** Action, Drama  \n",
       "**Description:** A mysterious Hollywood action film stuntman gets in trouble with gangsters when he tries to help his neighbor's husband rob a pawn shop while serving as his getaway driver.  \n",
       "**Director:** Nicolas Winding Refn  \n",
       "**Stars:** Ryan Gosling, Carey Mulligan, Bryan Cranston, Albert Brooks  \n",
       "**Votes:** 699,603  \n",
       "**Gross:** $35.06M  \n",
       "**Details:** [Link](https://www.imdb.com/title/tt0780504/)"
      ],
      "text/plain": [
       "<IPython.core.display.Markdown object>"
      ]
     },
     "metadata": {},
     "output_type": "display_data"
    },
    {
     "data": {
      "text/html": [
       "<img src=\"https://m.media-amazon.com/images/M/MV5BZjY5ZjQyMjMtMmEwOC00Nzc2LTllYTItMmU2MzJjNTg1NjY0XkEyXkFqcGdeQXVyNjQ1MTMzMDQ@._V1_UY209_CR0,0,140,209_AL_.jpg\"/>"
      ],
      "text/plain": [
       "<IPython.core.display.Image object>"
      ]
     },
     "metadata": {},
     "output_type": "display_data"
    },
    {
     "data": {
      "text/markdown": [
       "**Position:** 46.  \n",
       "**Movie:** Moderne Zeiten  \n",
       "**Year:** 1936  \n",
       "**Rating:** 8.5  \n",
       "**Runtime:** 87 min  \n",
       "**Genre:** Comedy, Drama, Romance  \n",
       "**Description:** The Tramp struggles to live in modern industrial society with the help of a young homeless woman.  \n",
       "**Director:** Charles Chaplin  \n",
       "**Stars:** Charles Chaplin, Paulette Goddard, Henry Bergman, Tiny Sandford  \n",
       "**Votes:** 257,794  \n",
       "**Gross:** $0.16M  \n",
       "**Details:** [Link](https://www.imdb.com/title/tt0027977/)"
      ],
      "text/plain": [
       "<IPython.core.display.Markdown object>"
      ]
     },
     "metadata": {},
     "output_type": "display_data"
    },
    {
     "data": {
      "text/html": [
       "<img src=\"https://m.media-amazon.com/images/M/MV5BM2VlMjY3N2UtN2ZjNC00MDg4LWI3ZGQtZmE4NjZkZjkwZmYzXkEyXkFqcGdeQXVyMTU3NDU4MDg2._V1_UY209_CR0,0,140,209_AL_.jpg\"/>"
      ],
      "text/plain": [
       "<IPython.core.display.Image object>"
      ]
     },
     "metadata": {},
     "output_type": "display_data"
    },
    {
     "data": {
      "text/markdown": [
       "**Position:** 47.  \n",
       "**Movie:** Hautnah  \n",
       "**Year:** I) (2004  \n",
       "**Rating:** 7.2  \n",
       "**Runtime:** 104 min  \n",
       "**Genre:** Drama, Romance  \n",
       "**Description:** The relationships of two couples become complicated and deceitful when the man from one couple meets the woman of the other.  \n",
       "**Director:** Mike Nichols  \n",
       "**Stars:** Natalie Portman, Jude Law, Clive Owen, Julia Roberts  \n",
       "**Votes:** 235,011  \n",
       "**Gross:** $33.99M  \n",
       "**Details:** [Link](https://www.imdb.com/title/tt0376541/)"
      ],
      "text/plain": [
       "<IPython.core.display.Markdown object>"
      ]
     },
     "metadata": {},
     "output_type": "display_data"
    },
    {
     "data": {
      "text/html": [
       "<img src=\"https://m.media-amazon.com/images/M/MV5BN2I0Y2JmZjQtNjEyOC00ODhkLWE5YWUtOWFkOGQwMGYyODRiXkEyXkFqcGdeQXVyNDk3NzU2MTQ@._V1_UY209_CR0,0,140,209_AL_.jpg\"/>"
      ],
      "text/plain": [
       "<IPython.core.display.Image object>"
      ]
     },
     "metadata": {},
     "output_type": "display_data"
    },
    {
     "data": {
      "text/markdown": [
       "**Position:** 48.  \n",
       "**Movie:** Before Sunrise  \n",
       "**Year:** 1995  \n",
       "**Rating:** 8.1  \n",
       "**Runtime:** 101 min  \n",
       "**Genre:** Drama, Romance  \n",
       "**Description:** A young man and woman meet on a train in Europe, and wind up spending one evening together in Vienna. Unfortunately, both know that this will probably be their only night together.  \n",
       "**Director:** Richard Linklater  \n",
       "**Stars:** Ethan Hawke, Julie Delpy, Andrea Eckert, Hanno Pöschl  \n",
       "**Votes:** 336,698  \n",
       "**Gross:** $5.54M  \n",
       "**Details:** [Link](https://www.imdb.com/title/tt0112471/)"
      ],
      "text/plain": [
       "<IPython.core.display.Markdown object>"
      ]
     },
     "metadata": {},
     "output_type": "display_data"
    },
    {
     "data": {
      "text/html": [
       "<img src=\"https://m.media-amazon.com/images/M/MV5BZDdiZTAwYzAtMDI3Ni00OTRjLTkzN2UtMGE3MDMyZmU4NTU4XkEyXkFqcGdeQXVyNjU0OTQ0OTY@._V1_UY209_CR0,0,140,209_AL_.jpg\"/>"
      ],
      "text/plain": [
       "<IPython.core.display.Image object>"
      ]
     },
     "metadata": {},
     "output_type": "display_data"
    },
    {
     "data": {
      "text/markdown": [
       "**Position:** 49.  \n",
       "**Movie:** The Crow - Die Krähe  \n",
       "**Year:** 1994  \n",
       "**Rating:** 7.5  \n",
       "**Runtime:** 102 min  \n",
       "**Genre:** Action, Crime, Drama  \n",
       "**Description:** A man brutally murdered comes back to life as an undead avenger of his and his fiancée's murder.  \n",
       "**Director:** Alex Proyas  \n",
       "**Stars:** Brandon Lee, Michael Wincott, Rochelle Davis, Ernie Hudson  \n",
       "**Votes:** 198,473  \n",
       "**Gross:** $50.69M  \n",
       "**Details:** [Link](https://www.imdb.com/title/tt0109506/)"
      ],
      "text/plain": [
       "<IPython.core.display.Markdown object>"
      ]
     },
     "metadata": {},
     "output_type": "display_data"
    },
    {
     "data": {
      "text/html": [
       "<img src=\"https://m.media-amazon.com/images/M/MV5BOGIxYmFiMzQtZDQwMC00ZTAxLWIzZTQtOTM5MzJkZmJjZTJhXkEyXkFqcGdeQXVyMTUyNjc3NDQ4._V1_UX140_CR0,0,140,209_AL_.jpg\"/>"
      ],
      "text/plain": [
       "<IPython.core.display.Image object>"
      ]
     },
     "metadata": {},
     "output_type": "display_data"
    },
    {
     "data": {
      "text/markdown": [
       "**Position:** 50.  \n",
       "**Movie:** The Untouchables - Die Unbestechlichen  \n",
       "**Year:** 1987  \n",
       "**Rating:** 7.8  \n",
       "**Runtime:** 119 min  \n",
       "**Genre:** Crime, Drama, Thriller  \n",
       "**Description:** During Prohibition, Treasury agent Eliot Ness sets out to stop ruthless Chicago gangster Al Capone, and assembles a small, incorruptible team to help him.  \n",
       "**Director:** Brian De Palma  \n",
       "**Stars:** Kevin Costner, Sean Connery, Robert De Niro, Charles Martin Smith  \n",
       "**Votes:** 329,049  \n",
       "**Gross:** $76.27M  \n",
       "**Details:** [Link](https://www.imdb.com/title/tt0094226/)"
      ],
      "text/plain": [
       "<IPython.core.display.Markdown object>"
      ]
     },
     "metadata": {},
     "output_type": "display_data"
    },
    {
     "data": {
      "text/html": [
       "<img src=\"https://m.media-amazon.com/images/M/MV5BYTVjYWJmMWQtYWU4Ni00MWY3LWI2YmMtNTI5MDE0MWVmMmEzL2ltYWdlXkEyXkFqcGdeQXVyMTQxNzMzNDI@._V1_UX140_CR0,0,140,209_AL_.jpg\"/>"
      ],
      "text/plain": [
       "<IPython.core.display.Image object>"
      ]
     },
     "metadata": {},
     "output_type": "display_data"
    },
    {
     "data": {
      "text/markdown": [
       "**Position:** 51.  \n",
       "**Movie:** Elite Squad: Im Sumpf der Korruption  \n",
       "**Year:** 2010  \n",
       "**Rating:** 8.0  \n",
       "**Runtime:** 115 min  \n",
       "**Genre:** Action, Crime, Drama  \n",
       "**Description:** After a prison riot, former-Captain Nascimento, now a high ranking security officer in Rio de Janeiro, is swept into a bloody political dispute that involves government officials and paramilitary groups.  \n",
       "**Director:** José Padilha  \n",
       "**Stars:** Wagner Moura, Irandhir Santos, André Ramiro, Milhem Cortaz  \n",
       "**Votes:** 86,388  \n",
       "**Gross:** $0.10M  \n",
       "**Details:** [Link](https://www.imdb.com/title/tt1555149/)"
      ],
      "text/plain": [
       "<IPython.core.display.Markdown object>"
      ]
     },
     "metadata": {},
     "output_type": "display_data"
    },
    {
     "data": {
      "text/html": [
       "<img src=\"https://m.media-amazon.com/images/M/MV5BMjEzMzMxOTUyNV5BMl5BanBnXkFtZTcwNjI3MDc5Ng@@._V1_UY209_CR0,0,140,209_AL_.jpg\"/>"
      ],
      "text/plain": [
       "<IPython.core.display.Image object>"
      ]
     },
     "metadata": {},
     "output_type": "display_data"
    },
    {
     "data": {
      "text/markdown": [
       "**Position:** 52.  \n",
       "**Movie:** Natural Born Killers  \n",
       "**Year:** 1994  \n",
       "**Rating:** 7.2  \n",
       "**Runtime:** 119 min  \n",
       "**Genre:** Action, Crime, Romance  \n",
       "**Description:** Two victims of traumatized childhoods become lovers and psychopathic serial murderers irresponsibly glorified by the mass media.  \n",
       "**Director:** Oliver Stone  \n",
       "**Stars:** Woody Harrelson, Juliette Lewis, Tom Sizemore, Rodney Dangerfield  \n",
       "**Votes:** 250,429  \n",
       "**Gross:** $50.28M  \n",
       "**Details:** [Link](https://www.imdb.com/title/tt0110632/)"
      ],
      "text/plain": [
       "<IPython.core.display.Markdown object>"
      ]
     },
     "metadata": {},
     "output_type": "display_data"
    },
    {
     "data": {
      "text/html": [
       "<img src=\"https://m.media-amazon.com/images/M/MV5BNGNjNjU1YmEtZGM5MC00ODgzLWEyY2MtZmZmNTlhOGU4OWJjXkEyXkFqcGdeQXVyNTAyODkwOQ@@._V1_UY209_CR9,0,140,209_AL_.jpg\"/>"
      ],
      "text/plain": [
       "<IPython.core.display.Image object>"
      ]
     },
     "metadata": {},
     "output_type": "display_data"
    },
    {
     "data": {
      "text/markdown": [
       "**Position:** 53.  \n",
       "**Movie:** An Education  \n",
       "**Year:** 2009  \n",
       "**Rating:** 7.3  \n",
       "**Runtime:** 100 min  \n",
       "**Genre:** Drama  \n",
       "**Description:** A coming-of-age story about a teenage girl in 1960s suburban London, and how her life changes with the arrival of a playboy nearly twice her age.  \n",
       "**Director:** Lone Scherfig  \n",
       "**Stars:** Carey Mulligan, Peter Sarsgaard, Alfred Molina, Olivia Williams  \n",
       "**Votes:** 137,942  \n",
       "**Gross:** $12.57M  \n",
       "**Details:** [Link](https://www.imdb.com/title/tt1174732/)"
      ],
      "text/plain": [
       "<IPython.core.display.Markdown object>"
      ]
     },
     "metadata": {},
     "output_type": "display_data"
    },
    {
     "data": {
      "text/html": [
       "<img src=\"https://m.media-amazon.com/images/M/MV5BMTg4NjgzOTc0MF5BMl5BanBnXkFtZTcwOTc2OTE3Mg@@._V1_UY209_CR0,0,140,209_AL_.jpg\"/>"
      ],
      "text/plain": [
       "<IPython.core.display.Image object>"
      ]
     },
     "metadata": {},
     "output_type": "display_data"
    },
    {
     "data": {
      "text/markdown": [
       "**Position:** 54.  \n",
       "**Movie:** Cinema Paradiso  \n",
       "**Year:** 1988  \n",
       "**Rating:** 8.5  \n",
       "**Runtime:** 174 min  \n",
       "**Genre:** Drama, Romance  \n",
       "**Description:** A filmmaker recalls his childhood when falling in love with the pictures at the cinema of his home village and forms a deep friendship with the cinema's projectionist.  \n",
       "**Director:** Giuseppe Tornatore  \n",
       "**Stars:** Philippe Noiret, Enzo Cannavale, Antonella Attili, Isa Danieli  \n",
       "**Votes:** 280,715  \n",
       "**Gross:** $11.99M  \n",
       "**Details:** [Link](https://www.imdb.com/title/tt0095765/)"
      ],
      "text/plain": [
       "<IPython.core.display.Markdown object>"
      ]
     },
     "metadata": {},
     "output_type": "display_data"
    },
    {
     "data": {
      "text/html": [
       "<img src=\"https://m.media-amazon.com/images/M/MV5BM2FhYjEyYmYtMDI1Yy00YTdlLWI2NWQtYmEzNzAxOGY1NjY2XkEyXkFqcGdeQXVyNTA3NTIyNDg@._V1_UY209_CR0,0,140,209_AL_.jpg\"/>"
      ],
      "text/plain": [
       "<IPython.core.display.Image object>"
      ]
     },
     "metadata": {},
     "output_type": "display_data"
    },
    {
     "data": {
      "text/markdown": [
       "**Position:** 55.  \n",
       "**Movie:** Hurricane  \n",
       "**Year:** 1999  \n",
       "**Rating:** 7.6  \n",
       "**Runtime:** 146 min  \n",
       "**Genre:** Biography, Drama, Sport  \n",
       "**Description:** The story of Rubin 'Hurricane' Carter, a boxer wrongly imprisoned for murder, and the people who aided in his fight to prove his innocence.  \n",
       "**Director:** Norman Jewison  \n",
       "**Stars:** Denzel Washington, Vicellous Shannon, Deborah Kara Unger, Liev Schreiber  \n",
       "**Votes:** 102,032  \n",
       "**Gross:** $50.67M  \n",
       "**Details:** [Link](https://www.imdb.com/title/tt0174856/)"
      ],
      "text/plain": [
       "<IPython.core.display.Markdown object>"
      ]
     },
     "metadata": {},
     "output_type": "display_data"
    },
    {
     "data": {
      "text/html": [
       "<img src=\"https://m.media-amazon.com/images/M/MV5BZjhjMWE5OTUtOWNlMi00ZjM0LWE0YTktMWZkNmIwZmZkYzBjXkEyXkFqcGdeQXVyMjUzOTY1NTc@._V1_UY209_CR0,0,140,209_AL_.jpg\"/>"
      ],
      "text/plain": [
       "<IPython.core.display.Image object>"
      ]
     },
     "metadata": {},
     "output_type": "display_data"
    },
    {
     "data": {
      "text/markdown": [
       "**Position:** 56.  \n",
       "**Movie:** Jäger des verlorenen Schatzes  \n",
       "**Year:** 1981  \n",
       "**Rating:** 8.4  \n",
       "**Runtime:** 115 min  \n",
       "**Genre:** Action, Adventure  \n",
       "**Description:** In 1936, archaeologist and adventurer Indiana Jones is hired by the U.S. government to find the Ark of the Covenant before the Nazis can obtain its awesome powers.  \n",
       "**Director:** Steven Spielberg  \n",
       "**Stars:** Harrison Ford, Karen Allen, Paul Freeman, John Rhys-Davies  \n",
       "**Votes:** 1,031,688  \n",
       "**Gross:** $248.16M  \n",
       "**Details:** [Link](https://www.imdb.com/title/tt0082971/)"
      ],
      "text/plain": [
       "<IPython.core.display.Markdown object>"
      ]
     },
     "metadata": {},
     "output_type": "display_data"
    },
    {
     "data": {
      "text/html": [
       "<img src=\"https://m.media-amazon.com/images/M/MV5BNTU2ODkyY2MtMjU1NC00NjE1LWEzYjgtMWQ3MzRhMTE0NDc0XkEyXkFqcGdeQXVyMjM4MzQ4OTQ@._V1_UY209_CR1,0,140,209_AL_.jpg\"/>"
      ],
      "text/plain": [
       "<IPython.core.display.Image object>"
      ]
     },
     "metadata": {},
     "output_type": "display_data"
    },
    {
     "data": {
      "text/markdown": [
       "**Position:** 57.  \n",
       "**Movie:** In ihren Augen  \n",
       "**Year:** 2009  \n",
       "**Rating:** 8.2  \n",
       "**Runtime:** 129 min  \n",
       "**Genre:** Drama, Mystery, Romance  \n",
       "**Description:** A retired legal counselor writes a novel hoping to find closure for one of his past unresolved homicide cases and for his unreciprocated love with his superior - both of which still haunt him decades later.  \n",
       "**Director:** Juan José Campanella  \n",
       "**Stars:** Ricardo Darín, Soledad Villamil, Pablo Rago, Carla Quevedo  \n",
       "**Votes:** 221,187  \n",
       "**Gross:** $6.39M  \n",
       "**Details:** [Link](https://www.imdb.com/title/tt1305806/)"
      ],
      "text/plain": [
       "<IPython.core.display.Markdown object>"
      ]
     },
     "metadata": {},
     "output_type": "display_data"
    },
    {
     "data": {
      "text/html": [
       "<img src=\"https://m.media-amazon.com/images/M/MV5BMTgwNTI3OTczOV5BMl5BanBnXkFtZTcwMTM3MTUyMw@@._V1_UY209_CR0,0,140,209_AL_.jpg\"/>"
      ],
      "text/plain": [
       "<IPython.core.display.Image object>"
      ]
     },
     "metadata": {},
     "output_type": "display_data"
    },
    {
     "data": {
      "text/markdown": [
       "**Position:** 58.  \n",
       "**Movie:** Gilda  \n",
       "**Year:** 1946  \n",
       "**Rating:** 7.6  \n",
       "**Runtime:** 110 min  \n",
       "**Genre:** Drama, Film-Noir, Romance  \n",
       "**Description:** A small-time gambler hired to work in a Buenos Aires casino discovers his employer's new wife is his former lover.  \n",
       "**Director:** Charles Vidor  \n",
       "**Stars:** Rita Hayworth, Glenn Ford, George Macready, Joseph Calleia  \n",
       "**Votes:** 35,005  \n",
       "**Gross:** N/A  \n",
       "**Details:** [Link](https://www.imdb.com/title/tt0038559/)"
      ],
      "text/plain": [
       "<IPython.core.display.Markdown object>"
      ]
     },
     "metadata": {},
     "output_type": "display_data"
    },
    {
     "data": {
      "text/html": [
       "<img src=\"https://m.media-amazon.com/images/M/MV5BYWUxMzViZTUtNTYxNy00YjY4LWJmMjYtMzNlOThjNjhiZmZkXkEyXkFqcGdeQXVyMDI2NDg0NQ@@._V1_UX140_CR0,0,140,209_AL_.jpg\"/>"
      ],
      "text/plain": [
       "<IPython.core.display.Image object>"
      ]
     },
     "metadata": {},
     "output_type": "display_data"
    },
    {
     "data": {
      "text/markdown": [
       "**Position:** 59.  \n",
       "**Movie:** The Game - Das Geschenk seines Lebens  \n",
       "**Year:** 1997  \n",
       "**Rating:** 7.7  \n",
       "**Runtime:** 129 min  \n",
       "**Genre:** Drama, Mystery, Thriller  \n",
       "**Description:** After a wealthy San Francisco banker is given an opportunity to participate in a mysterious game, his life is turned upside down as he begins to question if it might really be a concealed conspiracy to destroy him.  \n",
       "**Director:** David Fincher  \n",
       "**Stars:** Michael Douglas, Deborah Kara Unger, Sean Penn, James Rebhorn  \n",
       "**Votes:** 426,438  \n",
       "**Gross:** $48.32M  \n",
       "**Details:** [Link](https://www.imdb.com/title/tt0119174/)"
      ],
      "text/plain": [
       "<IPython.core.display.Markdown object>"
      ]
     },
     "metadata": {},
     "output_type": "display_data"
    },
    {
     "data": {
      "text/html": [
       "<img src=\"https://m.media-amazon.com/images/M/MV5BNWQ2ODFhNWItNTA4NS00MzkyLTgyYzUtZjlhYWE5MmEzY2Q1XkEyXkFqcGdeQXVyMjUzOTY1NTc@._V1_UX140_CR0,0,140,209_AL_.jpg\"/>"
      ],
      "text/plain": [
       "<IPython.core.display.Image object>"
      ]
     },
     "metadata": {},
     "output_type": "display_data"
    },
    {
     "data": {
      "text/markdown": [
       "**Position:** 60.  \n",
       "**Movie:** Black Swan  \n",
       "**Year:** 2010  \n",
       "**Rating:** 8.0  \n",
       "**Runtime:** 108 min  \n",
       "**Genre:** Drama, Thriller  \n",
       "**Description:** Nina is a talented but unstable ballerina on the verge of stardom. Pushed to the breaking point by her artistic director and a seductive rival, Nina's grip on reality slips, plunging her into a waking nightmare.  \n",
       "**Director:** Darren Aronofsky  \n",
       "**Stars:** Natalie Portman, Mila Kunis, Vincent Cassel, Winona Ryder  \n",
       "**Votes:** 819,422  \n",
       "**Gross:** $106.95M  \n",
       "**Details:** [Link](https://www.imdb.com/title/tt0947798/)"
      ],
      "text/plain": [
       "<IPython.core.display.Markdown object>"
      ]
     },
     "metadata": {},
     "output_type": "display_data"
    },
    {
     "data": {
      "text/html": [
       "<img src=\"https://m.media-amazon.com/images/M/MV5BNzY2NzI4OTE5MF5BMl5BanBnXkFtZTcwMjMyNDY4Mw@@._V1_UY209_CR0,0,140,209_AL_.jpg\"/>"
      ],
      "text/plain": [
       "<IPython.core.display.Image object>"
      ]
     },
     "metadata": {},
     "output_type": "display_data"
    },
    {
     "data": {
      "text/markdown": [
       "**Position:** 61.  \n",
       "**Movie:** Rain Man  \n",
       "**Year:** 1988  \n",
       "**Rating:** 8.0  \n",
       "**Runtime:** 133 min  \n",
       "**Genre:** Drama  \n",
       "**Description:** After a selfish L.A. yuppie learns his estranged father left a fortune to an autistic-savant brother in Ohio that he didn't know existed, he absconds with his brother and sets out across the country, hoping to gain a larger inheritance.  \n",
       "**Director:** Barry Levinson  \n",
       "**Stars:** Dustin Hoffman, Tom Cruise, Valeria Golino, Gerald R. Molen  \n",
       "**Votes:** 543,554  \n",
       "**Gross:** $178.80M  \n",
       "**Details:** [Link](https://www.imdb.com/title/tt0095953/)"
      ],
      "text/plain": [
       "<IPython.core.display.Markdown object>"
      ]
     },
     "metadata": {},
     "output_type": "display_data"
    },
    {
     "data": {
      "text/html": [
       "<img src=\"https://m.media-amazon.com/images/M/MV5BMzVjNzI4NzYtMjE4NS00M2IzLWFkOWMtOTYwMWUzN2ZlNGVjL2ltYWdlL2ltYWdlXkEyXkFqcGdeQXVyMTQxNzMzNDI@._V1_UX140_CR0,0,140,209_AL_.jpg\"/>"
      ],
      "text/plain": [
       "<IPython.core.display.Image object>"
      ]
     },
     "metadata": {},
     "output_type": "display_data"
    },
    {
     "data": {
      "text/markdown": [
       "**Position:** 62.  \n",
       "**Movie:** Braveheart  \n",
       "**Year:** 1995  \n",
       "**Rating:** 8.3  \n",
       "**Runtime:** 178 min  \n",
       "**Genre:** Biography, Drama, History  \n",
       "**Description:** Scottish warrior William Wallace leads his countrymen in a rebellion to free his homeland from the tyranny of King Edward I of England.  \n",
       "**Director:** Mel Gibson  \n",
       "**Stars:** Mel Gibson, Sophie Marceau, Patrick McGoohan, Angus Macfadyen  \n",
       "**Votes:** 1,086,094  \n",
       "**Gross:** $75.60M  \n",
       "**Details:** [Link](https://www.imdb.com/title/tt0112573/)"
      ],
      "text/plain": [
       "<IPython.core.display.Markdown object>"
      ]
     },
     "metadata": {},
     "output_type": "display_data"
    },
    {
     "data": {
      "text/html": [
       "<img src=\"https://m.media-amazon.com/images/M/MV5BMzkzMmU0YTYtOWM3My00YzBmLWI0YzctOGYyNTkwMWE5MTJkXkEyXkFqcGdeQXVyNzkwMjQ5NzM@._V1_UY209_CR1,0,140,209_AL_.jpg\"/>"
      ],
      "text/plain": [
       "<IPython.core.display.Image object>"
      ]
     },
     "metadata": {},
     "output_type": "display_data"
    },
    {
     "data": {
      "text/markdown": [
       "**Position:** 63.  \n",
       "**Movie:** The Others  \n",
       "**Year:** 2001  \n",
       "**Rating:** 7.6  \n",
       "**Runtime:** 101 min  \n",
       "**Genre:** Horror, Mystery, Thriller  \n",
       "**Description:** In 1945, immediately following the end of Second World War, a woman who lives with her two photosensitive children on her darkened old family estate in the Channel Islands becomes convinced that the home is haunted.  \n",
       "**Director:** Alejandro Amenábar  \n",
       "**Stars:** Nicole Kidman, Christopher Eccleston, Fionnula Flanagan, Alakina Mann  \n",
       "**Votes:** 391,104  \n",
       "**Gross:** $96.52M  \n",
       "**Details:** [Link](https://www.imdb.com/title/tt0230600/)"
      ],
      "text/plain": [
       "<IPython.core.display.Markdown object>"
      ]
     },
     "metadata": {},
     "output_type": "display_data"
    },
    {
     "data": {
      "text/html": [
       "<img src=\"https://m.media-amazon.com/images/M/MV5BYjVhMmM3ZTMtNzIzOS00YTY4LTkxNTAtOTA5Mjk3YzMwMzA2XkEyXkFqcGdeQXVyNDE0OTU3NDY@._V1_UY209_CR0,0,140,209_AL_.jpg\"/>"
      ],
      "text/plain": [
       "<IPython.core.display.Image object>"
      ]
     },
     "metadata": {},
     "output_type": "display_data"
    },
    {
     "data": {
      "text/markdown": [
       "**Position:** 64.  \n",
       "**Movie:** Heat  \n",
       "**Year:** 1995  \n",
       "**Rating:** 8.3  \n",
       "**Runtime:** 170 min  \n",
       "**Genre:** Action, Crime, Drama  \n",
       "**Description:** A group of high-end professional thieves start to feel the heat from the LAPD when they unknowingly leave a verbal clue at their latest heist.  \n",
       "**Director:** Michael Mann  \n",
       "**Stars:** Al Pacino, Robert De Niro, Val Kilmer, Jon Voight  \n",
       "**Votes:** 713,759  \n",
       "**Gross:** $67.44M  \n",
       "**Details:** [Link](https://www.imdb.com/title/tt0113277/)"
      ],
      "text/plain": [
       "<IPython.core.display.Markdown object>"
      ]
     },
     "metadata": {},
     "output_type": "display_data"
    },
    {
     "data": {
      "text/html": [
       "<img src=\"https://m.media-amazon.com/images/M/MV5BYjZjNTJlZGUtZTE1Ny00ZDc4LTgwYjUtMzk0NDgwYzZjYTk1XkEyXkFqcGdeQXVyNjU0OTQ0OTY@._V1_UY209_CR2,0,140,209_AL_.jpg\"/>"
      ],
      "text/plain": [
       "<IPython.core.display.Image object>"
      ]
     },
     "metadata": {},
     "output_type": "display_data"
    },
    {
     "data": {
      "text/markdown": [
       "**Position:** 65.  \n",
       "**Movie:** James Bond 007 jagt Dr. No  \n",
       "**Year:** 1962  \n",
       "**Rating:** 7.2  \n",
       "**Runtime:** 110 min  \n",
       "**Genre:** Action, Adventure, Thriller  \n",
       "**Description:** A resourceful British government agent seeks answers in a case involving the disappearance of a colleague and the disruption of the American space program.  \n",
       "**Director:** Terence Young  \n",
       "**Stars:** Sean Connery, Ursula Andress, Bernard Lee, Joseph Wiseman  \n",
       "**Votes:** 178,557  \n",
       "**Gross:** $16.07M  \n",
       "**Details:** [Link](https://www.imdb.com/title/tt0055928/)"
      ],
      "text/plain": [
       "<IPython.core.display.Markdown object>"
      ]
     },
     "metadata": {},
     "output_type": "display_data"
    },
    {
     "data": {
      "text/html": [
       "<img src=\"https://m.media-amazon.com/images/M/MV5BNWNjNGU5ZjUtMzc0MC00MWY5LTkxMGUtMjcxZmM2MDYzYzQ4XkEyXkFqcGdeQXVyMjUzOTY1NTc@._V1_UX140_CR0,0,140,209_AL_.jpg\"/>"
      ],
      "text/plain": [
       "<IPython.core.display.Image object>"
      ]
     },
     "metadata": {},
     "output_type": "display_data"
    },
    {
     "data": {
      "text/markdown": [
       "**Position:** 66.  \n",
       "**Movie:** Titanic  \n",
       "**Year:** 1997  \n",
       "**Rating:** 7.9  \n",
       "**Runtime:** 194 min  \n",
       "**Genre:** Drama, Romance  \n",
       "**Description:** A seventeen-year-old aristocrat falls in love with a kind but poor artist aboard the luxurious, ill-fated R.M.S. Titanic.  \n",
       "**Director:** James Cameron  \n",
       "**Stars:** Leonardo DiCaprio, Kate Winslet, Billy Zane, Kathy Bates  \n",
       "**Votes:** 1,271,861  \n",
       "**Gross:** $659.33M  \n",
       "**Details:** [Link](https://www.imdb.com/title/tt0120338/)"
      ],
      "text/plain": [
       "<IPython.core.display.Markdown object>"
      ]
     },
     "metadata": {},
     "output_type": "display_data"
    },
    {
     "data": {
      "text/html": [
       "<img src=\"https://m.media-amazon.com/images/M/MV5BMDdmZGU3NDQtY2E5My00ZTliLWIzOTUtMTY4ZGI1YjdiNjk3XkEyXkFqcGdeQXVyNTA4NzY1MzY@._V1_UY209_CR0,0,140,209_AL_.jpg\"/>"
      ],
      "text/plain": [
       "<IPython.core.display.Image object>"
      ]
     },
     "metadata": {},
     "output_type": "display_data"
    },
    {
     "data": {
      "text/markdown": [
       "**Position:** 67.  \n",
       "**Movie:** Bowling for Columbine  \n",
       "**Year:** 2002  \n",
       "**Rating:** 8.0  \n",
       "**Runtime:** 120 min  \n",
       "**Genre:** Documentary, Crime, Drama  \n",
       "**Description:** Filmmaker Michael Moore explores the roots of America's predilection for gun violence.  \n",
       "**Director:** Michael Moore  \n",
       "**Stars:** Michael Moore, Charlton Heston, Marilyn Manson, Salvador Allende  \n",
       "**Votes:** 148,409  \n",
       "**Gross:** $21.58M  \n",
       "**Details:** [Link](https://www.imdb.com/title/tt0310793/)"
      ],
      "text/plain": [
       "<IPython.core.display.Markdown object>"
      ]
     },
     "metadata": {},
     "output_type": "display_data"
    },
    {
     "data": {
      "text/html": [
       "<img src=\"https://m.media-amazon.com/images/M/MV5BOWY2OWM1ODEtNDU5OS00MjMwLTliYzItZWZlOTEyYmQ2Njg4XkEyXkFqcGdeQXVyMTQxNzMzNDI@._V1_UX140_CR0,0,140,209_AL_.jpg\"/>"
      ],
      "text/plain": [
       "<IPython.core.display.Image object>"
      ]
     },
     "metadata": {},
     "output_type": "display_data"
    },
    {
     "data": {
      "text/markdown": [
       "**Position:** 68.  \n",
       "**Movie:** Matrix Reloaded  \n",
       "**Year:** 2003  \n",
       "**Rating:** 7.2  \n",
       "**Runtime:** 138 min  \n",
       "**Genre:** Action, Sci-Fi  \n",
       "**Description:** Freedom fighters Neo, Trinity and Morpheus continue to lead the revolt against the Machine Army, unleashing their arsenal of extraordinary skills and weaponry against the systematic forces of repression and exploitation.  \n",
       "**Director:** Lana Wachowski, Lilly Wachowski  \n",
       "**Stars:** Keanu Reeves, Laurence Fishburne, Carrie-Anne Moss, Hugo Weaving  \n",
       "**Votes:** 627,125  \n",
       "**Gross:** $281.49M  \n",
       "**Details:** [Link](https://www.imdb.com/title/tt0234215/)"
      ],
      "text/plain": [
       "<IPython.core.display.Markdown object>"
      ]
     },
     "metadata": {},
     "output_type": "display_data"
    },
    {
     "data": {
      "text/html": [
       "<img src=\"https://m.media-amazon.com/images/M/MV5BODE0MzZhZTgtYzkwYi00YmI5LThlZWYtOWRmNWE5ODk0NzMxXkEyXkFqcGdeQXVyNjU0OTQ0OTY@._V1_UX140_CR0,0,140,209_AL_.jpg\"/>"
      ],
      "text/plain": [
       "<IPython.core.display.Image object>"
      ]
     },
     "metadata": {},
     "output_type": "display_data"
    },
    {
     "data": {
      "text/markdown": [
       "**Position:** 69.  \n",
       "**Movie:** Wie ein einziger Tag  \n",
       "**Year:** 2004  \n",
       "**Rating:** 7.8  \n",
       "**Runtime:** 123 min  \n",
       "**Genre:** Drama, Romance  \n",
       "**Description:** An elderly man reads to a woman with dementia the story of two young lovers whose romance is threatened by the difference in their respective social classes.  \n",
       "**Director:** Nick Cassavetes  \n",
       "**Stars:** Gena Rowlands, James Garner, Rachel McAdams, Ryan Gosling  \n",
       "**Votes:** 615,221  \n",
       "**Gross:** $81.00M  \n",
       "**Details:** [Link](https://www.imdb.com/title/tt0332280/)"
      ],
      "text/plain": [
       "<IPython.core.display.Markdown object>"
      ]
     },
     "metadata": {},
     "output_type": "display_data"
    },
    {
     "data": {
      "text/html": [
       "<img src=\"https://m.media-amazon.com/images/M/MV5BNzc3Mzg1OGYtZjc3My00Y2NhLTgyOWUtYjRhMmI4OTkwNDg4XkEyXkFqcGdeQXVyMTU3NDU4MDg2._V1_UX140_CR0,0,140,209_AL_.jpg\"/>"
      ],
      "text/plain": [
       "<IPython.core.display.Image object>"
      ]
     },
     "metadata": {},
     "output_type": "display_data"
    },
    {
     "data": {
      "text/markdown": [
       "**Position:** 70.  \n",
       "**Movie:** Krieg der Sterne  \n",
       "**Year:** 1977  \n",
       "**Rating:** 8.6  \n",
       "**Runtime:** 121 min  \n",
       "**Genre:** Action, Adventure, Fantasy  \n",
       "**Description:** Luke Skywalker joins forces with a Jedi Knight, a cocky pilot, a Wookiee and two droids to save the galaxy from the Empire's world-destroying battle station, while also attempting to rescue Princess Leia from the mysterious Darth Vader.  \n",
       "**Director:** George Lucas  \n",
       "**Stars:** Mark Hamill, Harrison Ford, Carrie Fisher, Alec Guinness  \n",
       "**Votes:** 1,440,929  \n",
       "**Gross:** $322.74M  \n",
       "**Details:** [Link](https://www.imdb.com/title/tt0076759/)"
      ],
      "text/plain": [
       "<IPython.core.display.Markdown object>"
      ]
     },
     "metadata": {},
     "output_type": "display_data"
    },
    {
     "data": {
      "text/html": [
       "<img src=\"https://m.media-amazon.com/images/M/MV5BOTA5NjhiOTAtZWM0ZC00MWNhLThiMzEtZDFkOTk2OTU1ZDJkXkEyXkFqcGdeQXVyMTA4NDI1NTQx._V1_UX140_CR0,0,140,209_AL_.jpg\"/>"
      ],
      "text/plain": [
       "<IPython.core.display.Image object>"
      ]
     },
     "metadata": {},
     "output_type": "display_data"
    },
    {
     "data": {
      "text/markdown": [
       "**Position:** 71.  \n",
       "**Movie:** Der Herr der Ringe: Die Rückkehr des Königs  \n",
       "**Year:** 2003  \n",
       "**Rating:** 9.0  \n",
       "**Runtime:** 201 min  \n",
       "**Genre:** Action, Adventure, Drama  \n",
       "**Description:** Gandalf and Aragorn lead the World of Men against Sauron's army to draw his gaze from Frodo and Sam as they approach Mount Doom with the One Ring.  \n",
       "**Director:** Peter Jackson  \n",
       "**Stars:** Elijah Wood, Viggo Mortensen, Ian McKellen, Orlando Bloom  \n",
       "**Votes:** 1,963,438  \n",
       "**Gross:** $377.85M  \n",
       "**Details:** [Link](https://www.imdb.com/title/tt0167260/)"
      ],
      "text/plain": [
       "<IPython.core.display.Markdown object>"
      ]
     },
     "metadata": {},
     "output_type": "display_data"
    },
    {
     "data": {
      "text/html": [
       "<img src=\"https://m.media-amazon.com/images/M/MV5BNzA5ZDNlZWMtM2NhNS00NDJjLTk4NDItYTRmY2EwMWZlMTY3XkEyXkFqcGdeQXVyNzkwMjQ5NzM@._V1_UY209_CR0,0,140,209_AL_.jpg\"/>"
      ],
      "text/plain": [
       "<IPython.core.display.Image object>"
      ]
     },
     "metadata": {},
     "output_type": "display_data"
    },
    {
     "data": {
      "text/markdown": [
       "**Position:** 72.  \n",
       "**Movie:** American Beauty  \n",
       "**Year:** 1999  \n",
       "**Rating:** 8.3  \n",
       "**Runtime:** 122 min  \n",
       "**Genre:** Drama  \n",
       "**Description:** A sexually frustrated suburban father has a mid-life crisis after becoming infatuated with his daughter's best friend.  \n",
       "**Director:** Sam Mendes  \n",
       "**Stars:** Kevin Spacey, Annette Bening, Thora Birch, Wes Bentley  \n",
       "**Votes:** 1,205,161  \n",
       "**Gross:** $130.10M  \n",
       "**Details:** [Link](https://www.imdb.com/title/tt0169547/)"
      ],
      "text/plain": [
       "<IPython.core.display.Markdown object>"
      ]
     },
     "metadata": {},
     "output_type": "display_data"
    },
    {
     "data": {
      "text/html": [
       "<img src=\"https://m.media-amazon.com/images/M/MV5BNTBmZWJkNjctNDhiNC00MGE2LWEwOTctZTk5OGVhMWMyNmVhXkEyXkFqcGdeQXVyMTMxODk2OTU@._V1_UY209_CR0,0,140,209_AL_.jpg\"/>"
      ],
      "text/plain": [
       "<IPython.core.display.Image object>"
      ]
     },
     "metadata": {},
     "output_type": "display_data"
    },
    {
     "data": {
      "text/markdown": [
       "**Position:** 73.  \n",
       "**Movie:** Mary Poppins  \n",
       "**Year:** 1964  \n",
       "**Rating:** 7.8  \n",
       "**Runtime:** 139 min  \n",
       "**Genre:** Comedy, Family, Fantasy  \n",
       "**Description:** In turn of the century London, a magical nanny employs music and adventure to help two neglected children become closer to their father.  \n",
       "**Director:** Robert Stevenson  \n",
       "**Stars:** Julie Andrews, Dick Van Dyke, David Tomlinson, Glynis Johns  \n",
       "**Votes:** 184,996  \n",
       "**Gross:** $102.27M  \n",
       "**Details:** [Link](https://www.imdb.com/title/tt0058331/)"
      ],
      "text/plain": [
       "<IPython.core.display.Markdown object>"
      ]
     },
     "metadata": {},
     "output_type": "display_data"
    },
    {
     "data": {
      "text/html": [
       "<img src=\"https://m.media-amazon.com/images/M/MV5BNmJkODczNjItNDI5Yy00MGI1LTkyOWItZDNmNjM4ZGI1ZDVlL2ltYWdlL2ltYWdlXkEyXkFqcGdeQXVyMDI2NDg0NQ@@._V1_UX140_CR0,0,140,209_AL_.jpg\"/>"
      ],
      "text/plain": [
       "<IPython.core.display.Image object>"
      ]
     },
     "metadata": {},
     "output_type": "display_data"
    },
    {
     "data": {
      "text/markdown": [
       "**Position:** 74.  \n",
       "**Movie:** Rocky  \n",
       "**Year:** 1976  \n",
       "**Rating:** 8.1  \n",
       "**Runtime:** 120 min  \n",
       "**Genre:** Drama, Sport  \n",
       "**Description:** A small-time Philadelphia boxer gets a supremely rare chance to fight the world heavyweight champion in a bout in which he strives to go the distance for his self-respect.  \n",
       "**Director:** John G. Avildsen  \n",
       "**Stars:** Sylvester Stallone, Talia Shire, Burt Young, Carl Weathers  \n",
       "**Votes:** 624,234  \n",
       "**Gross:** $117.24M  \n",
       "**Details:** [Link](https://www.imdb.com/title/tt0075148/)"
      ],
      "text/plain": [
       "<IPython.core.display.Markdown object>"
      ]
     },
     "metadata": {},
     "output_type": "display_data"
    },
    {
     "data": {
      "text/html": [
       "<img src=\"https://m.media-amazon.com/images/M/MV5BNTBkMjg2MjYtYTZjOS00ODQ0LTg0MDEtM2FiNmJmOGU1NGEwXkEyXkFqcGdeQXVyMjUzOTY1NTc@._V1_UX140_CR0,0,140,209_AL_.jpg\"/>"
      ],
      "text/plain": [
       "<IPython.core.display.Image object>"
      ]
     },
     "metadata": {},
     "output_type": "display_data"
    },
    {
     "data": {
      "text/markdown": [
       "**Position:** 75.  \n",
       "**Movie:** Grease - Schmiere  \n",
       "**Year:** 1978  \n",
       "**Rating:** 7.2  \n",
       "**Runtime:** 110 min  \n",
       "**Genre:** Comedy, Musical, Romance  \n",
       "**Description:** Good girl Sandy Olsson and greaser Danny Zuko fell in love over the summer. When they unexpectedly discover they're now in the same high school, will they be able to rekindle their romance?  \n",
       "**Director:** Randal Kleiser  \n",
       "**Stars:** John Travolta, Olivia Newton-John, Stockard Channing, Jeff Conaway  \n",
       "**Votes:** 298,412  \n",
       "**Gross:** $188.76M  \n",
       "**Details:** [Link](https://www.imdb.com/title/tt0077631/)"
      ],
      "text/plain": [
       "<IPython.core.display.Markdown object>"
      ]
     },
     "metadata": {},
     "output_type": "display_data"
    },
    {
     "data": {
      "text/html": [
       "<img src=\"https://m.media-amazon.com/images/M/MV5BZmUyMDEyOTgtZmUwOS00NTdkLThlNzctNTM1ODQ4M2VhMjdhXkEyXkFqcGdeQXVyNzkwMjQ5NzM@._V1_UX140_CR0,0,140,209_AL_.jpg\"/>"
      ],
      "text/plain": [
       "<IPython.core.display.Image object>"
      ]
     },
     "metadata": {},
     "output_type": "display_data"
    },
    {
     "data": {
      "text/markdown": [
       "**Position:** 76.  \n",
       "**Movie:** Departed: Unter Feinden  \n",
       "**Year:** 2006  \n",
       "**Rating:** 8.5  \n",
       "**Runtime:** 151 min  \n",
       "**Genre:** Crime, Drama, Thriller  \n",
       "**Description:** An undercover cop and a mole in the police attempt to identify each other while infiltrating an Irish gang in South Boston.  \n",
       "**Director:** Martin Scorsese  \n",
       "**Stars:** Leonardo DiCaprio, Matt Damon, Jack Nicholson, Mark Wahlberg  \n",
       "**Votes:** 1,412,468  \n",
       "**Gross:** $132.38M  \n",
       "**Details:** [Link](https://www.imdb.com/title/tt0407887/)"
      ],
      "text/plain": [
       "<IPython.core.display.Markdown object>"
      ]
     },
     "metadata": {},
     "output_type": "display_data"
    },
    {
     "data": {
      "text/html": [
       "<img src=\"https://m.media-amazon.com/images/M/MV5BMTI1MTY2OTIxNV5BMl5BanBnXkFtZTYwNjQ4NjY3._V1_UY209_CR0,0,140,209_AL_.jpg\"/>"
      ],
      "text/plain": [
       "<IPython.core.display.Image object>"
      ]
     },
     "metadata": {},
     "output_type": "display_data"
    },
    {
     "data": {
      "text/markdown": [
       "**Position:** 77.  \n",
       "**Movie:** Schlaflos in Seattle  \n",
       "**Year:** 1993  \n",
       "**Rating:** 6.8  \n",
       "**Runtime:** 105 min  \n",
       "**Genre:** Comedy, Drama, Romance  \n",
       "**Description:** A recently widowed man's son calls a radio talk-show in an attempt to find his father a partner.  \n",
       "**Director:** Nora Ephron  \n",
       "**Stars:** Tom Hanks, Meg Ryan, Ross Malinger, Rita Wilson  \n",
       "**Votes:** 189,780  \n",
       "**Gross:** $126.53M  \n",
       "**Details:** [Link](https://www.imdb.com/title/tt0108160/)"
      ],
      "text/plain": [
       "<IPython.core.display.Markdown object>"
      ]
     },
     "metadata": {},
     "output_type": "display_data"
    },
    {
     "data": {
      "text/html": [
       "<img src=\"https://m.media-amazon.com/images/M/MV5BNWY1MDJkZGUtZTE2OS00ODZiLTlmNzQtMDZjNzM2ZjkwM2QxXkEyXkFqcGdeQXVyMTMxODk2OTU@._V1_UY209_CR0,0,140,209_AL_.jpg\"/>"
      ],
      "text/plain": [
       "<IPython.core.display.Image object>"
      ]
     },
     "metadata": {},
     "output_type": "display_data"
    },
    {
     "data": {
      "text/markdown": [
       "**Position:** 78.  \n",
       "**Movie:** Inception  \n",
       "**Year:** 2010  \n",
       "**Rating:** 8.8  \n",
       "**Runtime:** 148 min  \n",
       "**Genre:** Action, Adventure, Sci-Fi  \n",
       "**Description:** A thief who steals corporate secrets through the use of dream-sharing technology is given the inverse task of planting an idea into the mind of a C.E.O., but his tragic past may doom the project and his team to disaster.  \n",
       "**Director:** Christopher Nolan  \n",
       "**Stars:** Leonardo DiCaprio, Joseph Gordon-Levitt, Elliot Page, Ken Watanabe  \n",
       "**Votes:** 2,529,184  \n",
       "**Gross:** $292.58M  \n",
       "**Details:** [Link](https://www.imdb.com/title/tt1375666/)"
      ],
      "text/plain": [
       "<IPython.core.display.Markdown object>"
      ]
     },
     "metadata": {},
     "output_type": "display_data"
    },
    {
     "data": {
      "text/html": [
       "<img src=\"https://m.media-amazon.com/images/M/MV5BMjAxMzY3NjcxNF5BMl5BanBnXkFtZTcwNTI5OTM0Mw@@._V1_UY209_CR0,0,140,209_AL_.jpg\"/>"
      ],
      "text/plain": [
       "<IPython.core.display.Image object>"
      ]
     },
     "metadata": {},
     "output_type": "display_data"
    },
    {
     "data": {
      "text/markdown": [
       "**Position:** 79.  \n",
       "**Movie:** A Beautiful Mind: Genie und Wahnsinn  \n",
       "**Year:** 2001  \n",
       "**Rating:** 8.2  \n",
       "**Runtime:** 135 min  \n",
       "**Genre:** Biography, Drama, Mystery  \n",
       "**Description:** A mathematical genius, John Nash made an astonishing discovery early in his career and stood on the brink of international acclaim. But the handsome and arrogant Nash soon found himself on a harrowing journey of self-discovery.  \n",
       "**Director:** Ron Howard  \n",
       "**Stars:** Russell Crowe, Ed Harris, Jennifer Connelly, Christopher Plummer  \n",
       "**Votes:** 981,265  \n",
       "**Gross:** $170.74M  \n",
       "**Details:** [Link](https://www.imdb.com/title/tt0268978/)"
      ],
      "text/plain": [
       "<IPython.core.display.Markdown object>"
      ]
     },
     "metadata": {},
     "output_type": "display_data"
    },
    {
     "data": {
      "text/html": [
       "<img src=\"https://m.media-amazon.com/images/M/MV5BMzcwYWFkYzktZjAzNC00OGY1LWI4YTgtNzc5MzVjMDVmNjY0XkEyXkFqcGdeQXVyMTQxNzMzNDI@._V1_UY209_CR0,0,140,209_AL_.jpg\"/>"
      ],
      "text/plain": [
       "<IPython.core.display.Image object>"
      ]
     },
     "metadata": {},
     "output_type": "display_data"
    },
    {
     "data": {
      "text/markdown": [
       "**Position:** 80.  \n",
       "**Movie:** Carrie: Des Satans jüngste Tochter  \n",
       "**Year:** 1976  \n",
       "**Rating:** 7.4  \n",
       "**Runtime:** 98 min  \n",
       "**Genre:** Horror, Mystery  \n",
       "**Description:** Carrie White, a shy, friendless teenage girl who is sheltered by her domineering, religious mother, unleashes her telekinetic powers after being humiliated by her classmates at her senior prom.  \n",
       "**Director:** Brian De Palma  \n",
       "**Stars:** Sissy Spacek, Piper Laurie, Amy Irving, John Travolta  \n",
       "**Votes:** 205,323  \n",
       "**Gross:** $33.80M  \n",
       "**Details:** [Link](https://www.imdb.com/title/tt0074285/)"
      ],
      "text/plain": [
       "<IPython.core.display.Markdown object>"
      ]
     },
     "metadata": {},
     "output_type": "display_data"
    },
    {
     "data": {
      "text/html": [
       "<img src=\"https://m.media-amazon.com/images/M/MV5BMTlhNmVkZGUtNjdjOC00YWY3LTljZWQtMTY1YWFhNGYwNDQwXkEyXkFqcGdeQXVyNjc1NTYyMjg@._V1_UX140_CR0,0,140,209_AL_.jpg\"/>"
      ],
      "text/plain": [
       "<IPython.core.display.Image object>"
      ]
     },
     "metadata": {},
     "output_type": "display_data"
    },
    {
     "data": {
      "text/markdown": [
       "**Position:** 81.  \n",
       "**Movie:** Children of Men  \n",
       "**Year:** 2006  \n",
       "**Rating:** 7.9  \n",
       "**Runtime:** 109 min  \n",
       "**Genre:** Action, Drama, Sci-Fi  \n",
       "**Description:** In 2027, in a chaotic world in which women have somehow become infertile, a former activist agrees to help transport a miraculously pregnant woman to a sanctuary at sea.  \n",
       "**Director:** Alfonso Cuarón  \n",
       "**Stars:** Julianne Moore, Clive Owen, Chiwetel Ejiofor, Michael Caine  \n",
       "**Votes:** 526,904  \n",
       "**Gross:** $35.55M  \n",
       "**Details:** [Link](https://www.imdb.com/title/tt0206634/)"
      ],
      "text/plain": [
       "<IPython.core.display.Markdown object>"
      ]
     },
     "metadata": {},
     "output_type": "display_data"
    },
    {
     "data": {
      "text/html": [
       "<img src=\"https://m.media-amazon.com/images/M/MV5BZjUzY2ZhZDAtZDRlNS00MzEzLTliZjItMzMyYzM2OTdkZGJjXkEyXkFqcGdeQXVyMjUzOTY1NTc@._V1_UY209_CR0,0,140,209_AL_.jpg\"/>"
      ],
      "text/plain": [
       "<IPython.core.display.Image object>"
      ]
     },
     "metadata": {},
     "output_type": "display_data"
    },
    {
     "data": {
      "text/markdown": [
       "**Position:** 82.  \n",
       "**Movie:** Million Dollar Baby  \n",
       "**Year:** 2004  \n",
       "**Rating:** 8.1  \n",
       "**Runtime:** 132 min  \n",
       "**Genre:** Drama, Sport  \n",
       "**Description:** Frankie, an ill-tempered old coach, reluctantly agrees to train aspiring boxer Maggie. Impressed with her determination and talent, he helps her become the best and the two soon form a close bond.  \n",
       "**Director:** Clint Eastwood  \n",
       "**Stars:** Hilary Swank, Clint Eastwood, Morgan Freeman, Jay Baruchel  \n",
       "**Votes:** 718,081  \n",
       "**Gross:** $100.49M  \n",
       "**Details:** [Link](https://www.imdb.com/title/tt0405159/)"
      ],
      "text/plain": [
       "<IPython.core.display.Markdown object>"
      ]
     },
     "metadata": {},
     "output_type": "display_data"
    },
    {
     "data": {
      "text/html": [
       "<img src=\"https://m.media-amazon.com/images/M/MV5BMTkxNzA1NDQxOV5BMl5BanBnXkFtZTcwNTkyMTIzMw@@._V1_UY209_CR1,0,140,209_AL_.jpg\"/>"
      ],
      "text/plain": [
       "<IPython.core.display.Image object>"
      ]
     },
     "metadata": {},
     "output_type": "display_data"
    },
    {
     "data": {
      "text/markdown": [
       "**Position:** 83.  \n",
       "**Movie:** Der Prinz aus Zamunda  \n",
       "**Year:** 1988  \n",
       "**Rating:** 7.1  \n",
       "**Runtime:** 117 min  \n",
       "**Genre:** Comedy, Romance  \n",
       "**Description:** An extremely pampered African prince travels to Queens, New York and goes undercover to find a wife that he can respect for her intelligence and strong will.  \n",
       "**Director:** John Landis  \n",
       "**Stars:** Eddie Murphy, Paul Bates, Garcelle Beauvais, Feather  \n",
       "**Votes:** 222,213  \n",
       "**Gross:** $128.15M  \n",
       "**Details:** [Link](https://www.imdb.com/title/tt0094898/)"
      ],
      "text/plain": [
       "<IPython.core.display.Markdown object>"
      ]
     },
     "metadata": {},
     "output_type": "display_data"
    },
    {
     "data": {
      "text/html": [
       "<img src=\"https://m.media-amazon.com/images/M/MV5BNGZlNjdlZmMtYTg0MC00MmZkLWIyNDktYmNlOWYzMTkzYWQ1XkEyXkFqcGdeQXVyNDk3NzU2MTQ@._V1_UX140_CR0,0,140,209_AL_.jpg\"/>"
      ],
      "text/plain": [
       "<IPython.core.display.Image object>"
      ]
     },
     "metadata": {},
     "output_type": "display_data"
    },
    {
     "data": {
      "text/markdown": [
       "**Position:** 84.  \n",
       "**Movie:** Sweeney Todd: Der teuflische Barbier aus der Fleet Street  \n",
       "**Year:** 2007  \n",
       "**Rating:** 7.3  \n",
       "**Runtime:** 116 min  \n",
       "**Genre:** Drama, Horror, Musical  \n",
       "**Description:** The legendary tale of a barber who returns from wrongful imprisonment to 1840s London, bent on revenge for the rape and death of his wife, and resumes his trade while forming a sinister partnership with his fellow tenant, Mrs. Lovett.  \n",
       "**Director:** Tim Burton  \n",
       "**Stars:** Johnny Depp, Helena Bonham Carter, Alan Rickman, Timothy Spall  \n",
       "**Votes:** 385,364  \n",
       "**Gross:** $52.90M  \n",
       "**Details:** [Link](https://www.imdb.com/title/tt0408236/)"
      ],
      "text/plain": [
       "<IPython.core.display.Markdown object>"
      ]
     },
     "metadata": {},
     "output_type": "display_data"
    },
    {
     "data": {
      "text/html": [
       "<img src=\"https://m.media-amazon.com/images/M/MV5BMTg3NjUxMzM5NV5BMl5BanBnXkFtZTcwMzQ1NjQzMw@@._V1_UY209_CR0,0,140,209_AL_.jpg\"/>"
      ],
      "text/plain": [
       "<IPython.core.display.Image object>"
      ]
     },
     "metadata": {},
     "output_type": "display_data"
    },
    {
     "data": {
      "text/markdown": [
       "**Position:** 85.  \n",
       "**Movie:** Bube Dame König grAS  \n",
       "**Year:** 1998  \n",
       "**Rating:** 8.1  \n",
       "**Runtime:** 107 min  \n",
       "**Genre:** Action, Comedy, Crime  \n",
       "**Description:** Eddy persuades his three pals to pool money for a vital poker game against a powerful local mobster, Hatchet Harry. Eddy loses, after which Harry gives him a week to pay back 500,000 pounds.  \n",
       "**Director:** Guy Ritchie  \n",
       "**Stars:** Jason Flemyng, Dexter Fletcher, Nick Moran, Jason Statham  \n",
       "**Votes:** 612,819  \n",
       "**Gross:** $3.90M  \n",
       "**Details:** [Link](https://www.imdb.com/title/tt0120735/)"
      ],
      "text/plain": [
       "<IPython.core.display.Markdown object>"
      ]
     },
     "metadata": {},
     "output_type": "display_data"
    },
    {
     "data": {
      "text/html": [
       "<img src=\"https://m.media-amazon.com/images/M/MV5BMTAyN2JmZmEtNjAyMy00NzYwLThmY2MtYWQ3OGNhNjExMmM4XkEyXkFqcGdeQXVyNDk3NzU2MTQ@._V1_UX140_CR0,0,140,209_AL_.jpg\"/>"
      ],
      "text/plain": [
       "<IPython.core.display.Image object>"
      ]
     },
     "metadata": {},
     "output_type": "display_data"
    },
    {
     "data": {
      "text/markdown": [
       "**Position:** 86.  \n",
       "**Movie:** Und täglich grüßt das Murmeltier  \n",
       "**Year:** 1993  \n",
       "**Rating:** 8.0  \n",
       "**Runtime:** 101 min  \n",
       "**Genre:** Comedy, Drama, Fantasy  \n",
       "**Description:** A narcissistic, self-centered weatherman finds himself in a time loop on Groundhog Day.  \n",
       "**Director:** Harold Ramis  \n",
       "**Stars:** Bill Murray, Andie MacDowell, Chris Elliott, Stephen Tobolowsky  \n",
       "**Votes:** 680,500  \n",
       "**Gross:** $70.91M  \n",
       "**Details:** [Link](https://www.imdb.com/title/tt0107048/)"
      ],
      "text/plain": [
       "<IPython.core.display.Markdown object>"
      ]
     },
     "metadata": {},
     "output_type": "display_data"
    },
    {
     "data": {
      "text/html": [
       "<img src=\"https://m.media-amazon.com/images/M/MV5BZWIxNzM5YzQtY2FmMS00Yjc3LWI1ZjUtNGVjMjMzZTIxZTIxXkEyXkFqcGdeQXVyNjU0OTQ0OTY@._V1_UY209_CR0,0,140,209_AL_.jpg\"/>"
      ],
      "text/plain": [
       "<IPython.core.display.Image object>"
      ]
     },
     "metadata": {},
     "output_type": "display_data"
    },
    {
     "data": {
      "text/markdown": [
       "**Position:** 87.  \n",
       "**Movie:** Im Körper des Feindes  \n",
       "**Year:** 1997  \n",
       "**Rating:** 7.3  \n",
       "**Runtime:** 138 min  \n",
       "**Genre:** Action, Crime, Sci-Fi  \n",
       "**Description:** To foil a terrorist plot, FBI agent Sean Archer assumes the identity of the criminal Castor Troy who murdered his son through facial transplant surgery, but the crook wakes up prematurely and vows revenge.  \n",
       "**Director:** John Woo  \n",
       "**Stars:** John Travolta, Nicolas Cage, Joan Allen, Alessandro Nivola  \n",
       "**Votes:** 398,801  \n",
       "**Gross:** $112.23M  \n",
       "**Details:** [Link](https://www.imdb.com/title/tt0119094/)"
      ],
      "text/plain": [
       "<IPython.core.display.Markdown object>"
      ]
     },
     "metadata": {},
     "output_type": "display_data"
    },
    {
     "data": {
      "text/html": [
       "<img src=\"https://m.media-amazon.com/images/M/MV5BYzFjNzIxMmEtMzY5NS00YTgzLTkwYWEtN2FjMmY0NmNkZWY3XkEyXkFqcGdeQXVyMTQxNzMzNDI@._V1_UX140_CR0,0,140,209_AL_.jpg\"/>"
      ],
      "text/plain": [
       "<IPython.core.display.Image object>"
      ]
     },
     "metadata": {},
     "output_type": "display_data"
    },
    {
     "data": {
      "text/markdown": [
       "**Position:** 88.  \n",
       "**Movie:** Die Truman Show  \n",
       "**Year:** 1998  \n",
       "**Rating:** 8.2  \n",
       "**Runtime:** 103 min  \n",
       "**Genre:** Comedy, Drama  \n",
       "**Description:** An insurance salesman discovers his whole life is actually a reality TV show.  \n",
       "**Director:** Peter Weir  \n",
       "**Stars:** Jim Carrey, Ed Harris, Laura Linney, Noah Emmerich  \n",
       "**Votes:** 1,184,387  \n",
       "**Gross:** $125.62M  \n",
       "**Details:** [Link](https://www.imdb.com/title/tt0120382/)"
      ],
      "text/plain": [
       "<IPython.core.display.Markdown object>"
      ]
     },
     "metadata": {},
     "output_type": "display_data"
    },
    {
     "data": {
      "text/html": [
       "<img src=\"https://m.media-amazon.com/images/M/MV5BMDIzODcyY2EtMmY2MC00ZWVlLTgwMzAtMjQwOWUyNmJjNTYyXkEyXkFqcGdeQXVyNDk3NzU2MTQ@._V1_UY209_CR0,0,140,209_AL_.jpg\"/>"
      ],
      "text/plain": [
       "<IPython.core.display.Image object>"
      ]
     },
     "metadata": {},
     "output_type": "display_data"
    },
    {
     "data": {
      "text/markdown": [
       "**Position:** 89.  \n",
       "**Movie:** Blow Out - Der Tod löscht alle Spuren  \n",
       "**Year:** 1981  \n",
       "**Rating:** 7.4  \n",
       "**Runtime:** 108 min  \n",
       "**Genre:** Crime, Drama, Mystery  \n",
       "**Description:** A movie sound recordist accidentally records the evidence that proves that a car accident was actually murder and consequently finds himself in danger.  \n",
       "**Director:** Brian De Palma  \n",
       "**Stars:** John Travolta, Nancy Allen, John Lithgow, Dennis Franz  \n",
       "**Votes:** 62,249  \n",
       "**Gross:** $13.75M  \n",
       "**Details:** [Link](https://www.imdb.com/title/tt0082085/)"
      ],
      "text/plain": [
       "<IPython.core.display.Markdown object>"
      ]
     },
     "metadata": {},
     "output_type": "display_data"
    },
    {
     "data": {
      "text/html": [
       "<img src=\"https://m.media-amazon.com/images/M/MV5BZmZiMmZmNjQtNGM3OC00MTFkLWIxMzktZmJhMGYzMjYwYzZmXkEyXkFqcGdeQXVyMTQxNzMzNDI@._V1_UX140_CR0,0,140,209_AL_.jpg\"/>"
      ],
      "text/plain": [
       "<IPython.core.display.Image object>"
      ]
     },
     "metadata": {},
     "output_type": "display_data"
    },
    {
     "data": {
      "text/markdown": [
       "**Position:** 90.  \n",
       "**Movie:** Das Reich der Sonne  \n",
       "**Year:** 1987  \n",
       "**Rating:** 7.7  \n",
       "**Runtime:** 153 min  \n",
       "**Genre:** Drama, War  \n",
       "**Description:** A young English boy struggles to survive under Japanese occupation of China during World War II.  \n",
       "**Director:** Steven Spielberg  \n",
       "**Stars:** Christian Bale, John Malkovich, Miranda Richardson, Nigel Havers  \n",
       "**Votes:** 133,654  \n",
       "**Gross:** $22.24M  \n",
       "**Details:** [Link](https://www.imdb.com/title/tt0092965/)"
      ],
      "text/plain": [
       "<IPython.core.display.Markdown object>"
      ]
     },
     "metadata": {},
     "output_type": "display_data"
    },
    {
     "data": {
      "text/html": [
       "<img src=\"https://m.media-amazon.com/images/M/MV5BMmQwNzczZDItNmI0OS00MjRmLTliYWItZWIyMjk1MTU4ZTQ4L2ltYWdlXkEyXkFqcGdeQXVyNTAyODkwOQ@@._V1_UY209_CR0,0,140,209_AL_.jpg\"/>"
      ],
      "text/plain": [
       "<IPython.core.display.Image object>"
      ]
     },
     "metadata": {},
     "output_type": "display_data"
    },
    {
     "data": {
      "text/markdown": [
       "**Position:** 91.  \n",
       "**Movie:** Der König der Löwen  \n",
       "**Year:** 1994  \n",
       "**Rating:** 8.5  \n",
       "**Runtime:** 88 min  \n",
       "**Genre:** Animation, Adventure, Drama  \n",
       "**Description:** Lion prince Simba and his father are targeted by his bitter uncle, who wants to ascend the throne himself.  \n",
       "**Director:** Roger Allers, Rob Minkoff  \n",
       "**Stars:** Matthew Broderick, Jeremy Irons, James Earl Jones, Whoopi Goldberg  \n",
       "**Votes:** 1,133,704  \n",
       "**Gross:** $422.78M  \n",
       "**Details:** [Link](https://www.imdb.com/title/tt0110357/)"
      ],
      "text/plain": [
       "<IPython.core.display.Markdown object>"
      ]
     },
     "metadata": {},
     "output_type": "display_data"
    },
    {
     "data": {
      "text/html": [
       "<img src=\"https://m.media-amazon.com/images/M/MV5BYTYxNGMyZTYtMjE3MS00MzNjLWFjNmYtMDk3N2FmM2JiM2M1XkEyXkFqcGdeQXVyNjY5NDU4NzI@._V1_UY209_CR0,0,140,209_AL_.jpg\"/>"
      ],
      "text/plain": [
       "<IPython.core.display.Image object>"
      ]
     },
     "metadata": {},
     "output_type": "display_data"
    },
    {
     "data": {
      "text/markdown": [
       "**Position:** 92.  \n",
       "**Movie:** High Fidelity  \n",
       "**Year:** 2000  \n",
       "**Rating:** 7.4  \n",
       "**Runtime:** 113 min  \n",
       "**Genre:** Comedy, Drama, Music  \n",
       "**Description:** Rob, a record store owner and compulsive list maker, recounts his top five breakups, including the one in progress.  \n",
       "**Director:** Stephen Frears  \n",
       "**Stars:** John Cusack, Iben Hjejle, Todd Louiso, Jack Black  \n",
       "**Votes:** 188,962  \n",
       "**Gross:** $27.29M  \n",
       "**Details:** [Link](https://www.imdb.com/title/tt0146882/)"
      ],
      "text/plain": [
       "<IPython.core.display.Markdown object>"
      ]
     },
     "metadata": {},
     "output_type": "display_data"
    },
    {
     "data": {
      "text/html": [
       "<img src=\"https://m.media-amazon.com/images/M/MV5BMTgxMTI1ODYyOV5BMl5BanBnXkFtZTYwNjQyOTI3._V1_UY209_CR6,0,140,209_AL_.jpg\"/>"
      ],
      "text/plain": [
       "<IPython.core.display.Image object>"
      ]
     },
     "metadata": {},
     "output_type": "display_data"
    },
    {
     "data": {
      "text/markdown": [
       "**Position:** 93.  \n",
       "**Movie:** Butterfly Effect  \n",
       "**Year:** 2004  \n",
       "**Rating:** 7.6  \n",
       "**Runtime:** 113 min  \n",
       "**Genre:** Drama, Sci-Fi, Thriller  \n",
       "**Description:** Evan Treborn suffers blackouts during significant events of his life. As he grows up, he finds a way to remember these lost memories and a supernatural way to alter his life by reading his journal.  \n",
       "**Director:** Eric Bress, J. Mackye Gruber  \n",
       "**Stars:** Ashton Kutcher, Amy Smart, Melora Walters, Elden Henson  \n",
       "**Votes:** 518,544  \n",
       "**Gross:** $57.94M  \n",
       "**Details:** [Link](https://www.imdb.com/title/tt0289879/)"
      ],
      "text/plain": [
       "<IPython.core.display.Markdown object>"
      ]
     },
     "metadata": {},
     "output_type": "display_data"
    },
    {
     "data": {
      "text/html": [
       "<img src=\"https://m.media-amazon.com/images/M/MV5BODNiZmY2MWUtMjFhMy00ZmM2LTg2MjYtNWY1OTY5NGU2MjdjL2ltYWdlXkEyXkFqcGdeQXVyNTAyODkwOQ@@._V1_UY209_CR2,0,140,209_AL_.jpg\"/>"
      ],
      "text/plain": [
       "<IPython.core.display.Image object>"
      ]
     },
     "metadata": {},
     "output_type": "display_data"
    },
    {
     "data": {
      "text/markdown": [
       "**Position:** 94.  \n",
       "**Movie:** Das Haus am Meer  \n",
       "**Year:** 2001  \n",
       "**Rating:** 7.4  \n",
       "**Runtime:** 125 min  \n",
       "**Genre:** Drama  \n",
       "**Description:** When a man is diagnosed with terminal cancer, he takes custody of his misanthropic teenage son, for whom quality time means getting high, engaging in small-time prostitution, and avoiding his father.  \n",
       "**Director:** Irwin Winkler  \n",
       "**Stars:** Hayden Christensen, Kevin Kline, Kristin Scott Thomas, Jena Malone  \n",
       "**Votes:** 45,501  \n",
       "**Gross:** $15.65M  \n",
       "**Details:** [Link](https://www.imdb.com/title/tt0264796/)"
      ],
      "text/plain": [
       "<IPython.core.display.Markdown object>"
      ]
     },
     "metadata": {},
     "output_type": "display_data"
    },
    {
     "data": {
      "text/html": [
       "<img src=\"https://m.media-amazon.com/images/M/MV5BODdhZTdkYjctNjIyMS00ZTc2LWJmMGUtZTVhMjQ5ODgyM2FmXkEyXkFqcGdeQXVyMTUyNjc3NDQ4._V1_UX140_CR0,0,140,209_AL_.jpg\"/>"
      ],
      "text/plain": [
       "<IPython.core.display.Image object>"
      ]
     },
     "metadata": {},
     "output_type": "display_data"
    },
    {
     "data": {
      "text/markdown": [
       "**Position:** 95.  \n",
       "**Movie:** Requiem for a Dream  \n",
       "**Year:** 2000  \n",
       "**Rating:** 8.3  \n",
       "**Runtime:** 102 min  \n",
       "**Genre:** Drama  \n",
       "**Description:** The drug-induced utopias of four Coney Island people are shattered when their addictions run deep.  \n",
       "**Director:** Darren Aronofsky  \n",
       "**Stars:** Ellen Burstyn, Jared Leto, Jennifer Connelly, Marlon Wayans  \n",
       "**Votes:** 893,341  \n",
       "**Gross:** $3.64M  \n",
       "**Details:** [Link](https://www.imdb.com/title/tt0180093/)"
      ],
      "text/plain": [
       "<IPython.core.display.Markdown object>"
      ]
     },
     "metadata": {},
     "output_type": "display_data"
    },
    {
     "data": {
      "text/html": [
       "<img src=\"https://m.media-amazon.com/images/M/MV5BOTdiNzJlOWUtNWMwNS00NmFlLWI0YTEtZmI3YjIzZWUyY2Y3XkEyXkFqcGdeQXVyNjU0OTQ0OTY@._V1_UX140_CR0,0,140,209_AL_.jpg\"/>"
      ],
      "text/plain": [
       "<IPython.core.display.Image object>"
      ]
     },
     "metadata": {},
     "output_type": "display_data"
    },
    {
     "data": {
      "text/markdown": [
       "**Position:** 96.  \n",
       "**Movie:** Elephant  \n",
       "**Year:** 2003  \n",
       "**Rating:** 7.1  \n",
       "**Runtime:** 81 min  \n",
       "**Genre:** Crime, Drama, Thriller  \n",
       "**Description:** Several ordinary high school students go through their daily routine as two others prepare for something more malevolent.  \n",
       "**Director:** Gus Van Sant  \n",
       "**Stars:** Elias McConnell, Alex Frost, Eric Deulen, John Robinson  \n",
       "**Votes:** 96,784  \n",
       "**Gross:** $1.23M  \n",
       "**Details:** [Link](https://www.imdb.com/title/tt0363589/)"
      ],
      "text/plain": [
       "<IPython.core.display.Markdown object>"
      ]
     },
     "metadata": {},
     "output_type": "display_data"
    },
    {
     "data": {
      "text/html": [
       "<img src=\"https://m.media-amazon.com/images/M/MV5BZWRhNDZkMzQtZDQ3Ny00NjdjLWJmZjAtMWQxNDQyZTYzZjU0XkEyXkFqcGdeQXVyMTQxNzMzNDI@._V1_UY209_CR4,0,140,209_AL_.jpg\"/>"
      ],
      "text/plain": [
       "<IPython.core.display.Image object>"
      ]
     },
     "metadata": {},
     "output_type": "display_data"
    },
    {
     "data": {
      "text/markdown": [
       "**Position:** 97.  \n",
       "**Movie:** Mystic River  \n",
       "**Year:** 2003  \n",
       "**Rating:** 7.9  \n",
       "**Runtime:** 138 min  \n",
       "**Genre:** Crime, Drama, Mystery  \n",
       "**Description:** The tragic murder of a 19-year-old girl reunites three childhood friends still living in Boston--the victim's gangster father, a detective, and the disturbed man they both suspect of killing her.  \n",
       "**Director:** Clint Eastwood  \n",
       "**Stars:** Sean Penn, Tim Robbins, Kevin Bacon, Emmy Rossum  \n",
       "**Votes:** 483,266  \n",
       "**Gross:** $90.14M  \n",
       "**Details:** [Link](https://www.imdb.com/title/tt0327056/)"
      ],
      "text/plain": [
       "<IPython.core.display.Markdown object>"
      ]
     },
     "metadata": {},
     "output_type": "display_data"
    },
    {
     "data": {
      "text/html": [
       "<img src=\"https://m.media-amazon.com/images/M/MV5BMTIzNDUyMjA4MV5BMl5BanBnXkFtZTYwNDc4ODM3._V1_UY209_CR0,0,140,209_AL_.jpg\"/>"
      ],
      "text/plain": [
       "<IPython.core.display.Image object>"
      ]
     },
     "metadata": {},
     "output_type": "display_data"
    },
    {
     "data": {
      "text/markdown": [
       "**Position:** 98.  \n",
       "**Movie:** Der Exorzist  \n",
       "**Year:** 1973  \n",
       "**Rating:** 8.1  \n",
       "**Runtime:** 122 min  \n",
       "**Genre:** Horror  \n",
       "**Description:** When a young girl is possessed by a mysterious entity, her mother seeks the help of two Catholic priests to save her life.  \n",
       "**Director:** William Friedkin  \n",
       "**Stars:** Ellen Burstyn, Max von Sydow, Linda Blair, Lee J. Cobb  \n",
       "**Votes:** 451,791  \n",
       "**Gross:** $232.91M  \n",
       "**Details:** [Link](https://www.imdb.com/title/tt0070047/)"
      ],
      "text/plain": [
       "<IPython.core.display.Markdown object>"
      ]
     },
     "metadata": {},
     "output_type": "display_data"
    },
    {
     "data": {
      "text/html": [
       "<img src=\"https://m.media-amazon.com/images/M/MV5BYWFlZGY2NDktY2ZjOS00ZWNkLTg0ZDAtZDY4MTM1ODU4ZjljXkEyXkFqcGdeQXVyMjUzOTY1NTc@._V1_UX140_CR0,0,140,209_AL_.jpg\"/>"
      ],
      "text/plain": [
       "<IPython.core.display.Image object>"
      ]
     },
     "metadata": {},
     "output_type": "display_data"
    },
    {
     "data": {
      "text/markdown": [
       "**Position:** 99.  \n",
       "**Movie:** Der letzte Kuss  \n",
       "**Year:** 2006  \n",
       "**Rating:** 6.4  \n",
       "**Runtime:** 115 min  \n",
       "**Genre:** Comedy, Drama, Romance  \n",
       "**Description:** Michael, at 30, has a great job, still have his four best friends, and has a beautiful girlfriend, but his life seems predictable. Until he meets a college girl. It seems that everybody's having relationship problems.  \n",
       "**Director:** Tony Goldwyn  \n",
       "**Stars:** Zach Braff, Jacinda Barrett, Rachel Bilson, Casey Affleck  \n",
       "**Votes:** 42,213  \n",
       "**Gross:** $11.60M  \n",
       "**Details:** [Link](https://www.imdb.com/title/tt0434139/)"
      ],
      "text/plain": [
       "<IPython.core.display.Markdown object>"
      ]
     },
     "metadata": {},
     "output_type": "display_data"
    },
    {
     "data": {
      "text/html": [
       "<img src=\"https://m.media-amazon.com/images/M/MV5BMTk3Mjk4Mjg1OV5BMl5BanBnXkFtZTgwMzU0NTgxMDI@._V1_UX140_CR0,0,140,209_AL_.jpg\"/>"
      ],
      "text/plain": [
       "<IPython.core.display.Image object>"
      ]
     },
     "metadata": {},
     "output_type": "display_data"
    },
    {
     "data": {
      "text/markdown": [
       "**Position:** 100.  \n",
       "**Movie:** Hundstage  \n",
       "**Year:** 1975  \n",
       "**Rating:** 8.0  \n",
       "**Runtime:** 125 min  \n",
       "**Genre:** Biography, Crime, Drama  \n",
       "**Description:** Three amateur bank robbers plan to hold up a bank. A nice simple robbery: Walk in, take the money, and run. Unfortunately, the supposedly uncomplicated heist suddenly becomes a bizarre nightmare as everything that could go wrong does.  \n",
       "**Director:** Sidney Lumet  \n",
       "**Stars:** Al Pacino, John Cazale, Penelope Allen, Sully Boyar  \n",
       "**Votes:** 271,765  \n",
       "**Gross:** $50.00M  \n",
       "**Details:** [Link](https://www.imdb.com/title/tt0072890/)"
      ],
      "text/plain": [
       "<IPython.core.display.Markdown object>"
      ]
     },
     "metadata": {},
     "output_type": "display_data"
    },
    {
     "data": {
      "text/html": [
       "<img src=\"https://m.media-amazon.com/images/M/MV5BODExZmE2ZWItYTIzOC00MzI1LTgyNTktMDBhNmFhY2Y4OTQ3XkEyXkFqcGdeQXVyNjU0OTQ0OTY@._V1_UX140_CR0,0,140,209_AL_.jpg\"/>"
      ],
      "text/plain": [
       "<IPython.core.display.Image object>"
      ]
     },
     "metadata": {},
     "output_type": "display_data"
    }
   ],
   "source": [
    "import pandas as pd\n",
    "import requests\n",
    "from IPython.display import display, Image, Markdown\n",
    "from bs4 import BeautifulSoup\n",
    "\n",
    "url = \"https://www.imdb.com/list/ls002206094/\"\n",
    "response = requests.get(url)\n",
    "soup = BeautifulSoup(response.content, \"html.parser\")\n",
    "\n",
    "# Lists to hold extracted data\n",
    "positions = []\n",
    "movies = []\n",
    "years = []\n",
    "ratings = []\n",
    "runtimes = []\n",
    "genres = []\n",
    "descriptions = []\n",
    "directors = []\n",
    "stars = []\n",
    "votes = []\n",
    "gross = []\n",
    "links = []\n",
    "images = []\n",
    "\n",
    "components = soup.find_all('div', class_='lister-item mode-detail')\n",
    "\n",
    "for component in components:\n",
    "    position = component.find('span', class_='lister-item-index unbold text-primary').text.strip()\n",
    "    positions.append(position)\n",
    "    \n",
    "    movie = component.find('h3').find('a').text.strip()  # More specific to ensure the correct <a> tag is selected\n",
    "    movies.append(movie)\n",
    "    \n",
    "    year = component.find('span', class_='lister-item-year text-muted unbold').text.strip('() ')\n",
    "    years.append(year)\n",
    "    \n",
    "    rating = component.find('span', class_='ipl-rating-star__rating')\n",
    "    ratings.append(rating.text.strip() if rating else 'N/A') \n",
    "    \n",
    "    runtime = component.find('span', class_='runtime')\n",
    "    runtimes.append(runtime.text.strip() if runtime else 'N/A')\n",
    "    \n",
    "    genre = component.find('span', class_='genre')\n",
    "    genres.append(genre.text.strip() if genre else 'N/A')\n",
    "    \n",
    "    description = component.find_all('p')[1] \n",
    "    descriptions.append(description.text.strip() if description else 'N/A')\n",
    "    \n",
    "    director_star_text = component.find_all('p')[2].text.strip()\n",
    "    parts = [part.strip() for part in director_star_text.split('|')]\n",
    "    \n",
    "    if parts:\n",
    "        # Directors\n",
    "        directors_part = parts[0].replace('Director:', '').replace('Directors:', '').strip()\n",
    "        directors_names = directors_part.replace('\\n', '').strip()\n",
    "        directors.append(directors_names)\n",
    "        \n",
    "        # Stars\n",
    "        if len(parts) > 1:\n",
    "            stars_part = parts[1].replace('Stars:', '').strip()\n",
    "            stars_names = stars_part.replace('\\n', '').strip()\n",
    "            stars.append(stars_names)\n",
    "        else:\n",
    "            stars.append('N/A')\n",
    "    \n",
    "    nv_elements = component.find_all('span', attrs={'name': 'nv'})\n",
    "    \n",
    "    votes.append(nv_elements[0].text if nv_elements else 'N/A')\n",
    "    \n",
    "    gross.append(nv_elements[1].text if len(nv_elements) > 1 else 'N/A')\n",
    "\n",
    "    link = component.find('h3', class_='lister-item-header').find('a', href=True)['href']\n",
    "    link = \"https://www.imdb.com\" + link\n",
    "    links.append(link)\n",
    "    \n",
    "    image_element = component.find('img', class_='loadlate')\n",
    "    if image_element:\n",
    "        image_url = image_element.get('loadlate')\n",
    "        images.append(image_url)\n",
    "    else:\n",
    "        images.append(None)\n",
    "\n",
    "df_movies = pd.DataFrame({\n",
    "    'Position': positions,\n",
    "    'Movie': movies,\n",
    "    'Year': years,\n",
    "    'Rating': ratings,\n",
    "    'Runtime': runtimes,\n",
    "    'Genre': genres,\n",
    "    'Description': descriptions,\n",
    "    'Director': directors,\n",
    "    'Stars': stars,\n",
    "    'Votes': votes,\n",
    "    'Gross': gross,\n",
    "    'Links': links,\n",
    "    'Image': images\n",
    "})\n",
    "\n",
    "df_movies['Rating'] = pd.to_numeric(df_movies['Rating'], errors='coerce')\n",
    "\n",
    "for index, row in df_movies.iterrows():\n",
    "    #if row['Rating'] >= 9: #### Playing with the code to see just movies that have rating higher than 9.0 removing this one and indenting it will show the whole list\n",
    "        links = row['Links'] if row['Links'] != 'N/A' else \"#\"\n",
    "        \n",
    "        display(Markdown(f\"**Position:** {row['Position']}  \\n**Movie:** {row['Movie']}  \\n**Year:** {row['Year']}  \\n**Rating:** {row['Rating']}  \\n**Runtime:** {row['Runtime']}  \\n**Genre:** {row['Genre']}  \\n**Description:** {row['Description']}  \\n**Director:** {row['Director']}  \\n**Stars:** {row['Stars']}  \\n**Votes:** {row['Votes']}  \\n**Gross:** {row['Gross']}  \\n**Details:** [Link]({links})\"))\n",
    "    \n",
    "        if row['Image'] != 'N/A':\n",
    "            display(Image(url=row['Image']))"
   ]
  },
  {
   "cell_type": "markdown",
   "id": "9ab1217a-df9d-4a2b-a32c-2c5f1eecd52a",
   "metadata": {
    "id": "9ab1217a-df9d-4a2b-a32c-2c5f1eecd52a"
   },
   "source": [
    "## BONUS\n",
    "\n",
    "The search results span multiple pages, housing a total of 631 movies in our example with each page displaying 50 movies at most. To scrape data seamlessly from all pages, you'll need to dive deep into the structure of the URLs generated with each \"Next\" click.\n",
    "\n",
    "Take a close look at the following URLs:\n",
    "- First page:\n",
    "  ```\n",
    "  https://www.imdb.com/search/title/?title_type=feature&release_date=1990-01-01,1992-12-31&user_rating=7.5,\n",
    "  ```\n",
    "- Second page:\n",
    "  ```\n",
    "  https://www.imdb.com/search/title/?title_type=feature&release_date=1990-01-01,1992-12-31&user_rating=7.5,&start=51&ref_=adv_nxt\n",
    "  ```\n",
    "- Third page:\n",
    "  ```\n",
    "  https://www.imdb.com/search/title/?title_type=feature&release_date=1990-01-01,1992-12-31&user_rating=7.5,&start=101&ref_=adv_nxt\n",
    "  ```\n",
    "\n",
    "You should notice a pattern. There is a `start` parameter incrementing by 50 with each page, paired with a constant `ref_` parameter holding the value \"adv_nxt\".\n",
    "\n",
    "Modify your script so it's capable of iterating over all available pages to fetch data on all the 631 movies (631 is the total number of movies in the proposed example)."
   ]
  },
  {
   "cell_type": "code",
   "execution_count": null,
   "id": "21ac4fc0-a12b-4a00-9266-2020166f0dea",
   "metadata": {
    "id": "21ac4fc0-a12b-4a00-9266-2020166f0dea"
   },
   "outputs": [],
   "source": [
    "# Your solution goes here"
   ]
  }
 ],
 "metadata": {
  "colab": {
   "provenance": []
  },
  "kernelspec": {
   "display_name": "Python 3 (ipykernel)",
   "language": "python",
   "name": "python3"
  },
  "language_info": {
   "codemirror_mode": {
    "name": "ipython",
    "version": 3
   },
   "file_extension": ".py",
   "mimetype": "text/x-python",
   "name": "python",
   "nbconvert_exporter": "python",
   "pygments_lexer": "ipython3",
   "version": "3.11.5"
  }
 },
 "nbformat": 4,
 "nbformat_minor": 5
}
